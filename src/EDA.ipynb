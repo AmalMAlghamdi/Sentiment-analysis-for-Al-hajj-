{
  "nbformat": 4,
  "nbformat_minor": 0,
  "metadata": {
    "colab": {
      "name": "EDA.ipynb",
      "provenance": [],
      "collapsed_sections": []
    },
    "kernelspec": {
      "name": "python3",
      "display_name": "Python 3"
    },
    "language_info": {
      "name": "python"
    }
  },
  "cells": [
    {
      "cell_type": "code",
      "source": [
        "import pandas as pd\n",
        "import matplotlib.pyplot as plt\n",
        "import requests\n",
        "\n",
        "\n",
        "df = pd.read_csv('/content/Lable_data.csv')"
      ],
      "metadata": {
        "id": "gDBDT8cKTM6r"
      },
      "execution_count": null,
      "outputs": []
    },
    {
      "cell_type": "code",
      "source": [
        "df"
      ],
      "metadata": {
        "colab": {
          "base_uri": "https://localhost:8080/",
          "height": 641
        },
        "id": "7LgahLv7TWEY",
        "outputId": "8170fb18-7488-471b-8aec-c7227fdd20a5"
      },
      "execution_count": null,
      "outputs": [
        {
          "output_type": "execute_result",
          "data": {
            "text/plain": [
              "       Unnamed: 0         username  author_followers author_tweets  \\\n",
              "0               0          raumunz              3070       1054648   \n",
              "1               1          hesheey               713         19244   \n",
              "2               2       ealam_itti             22300         22243   \n",
              "3               3         3krstzzm                54          7054   \n",
              "4               4      othman111mo              3563        146035   \n",
              "...           ...              ...               ...           ...   \n",
              "47647      140631           cxi_52                 7           128   \n",
              "47648      140632  coachshreif3ouf             42009        114342   \n",
              "47649      140638         LAljmazy                15           177   \n",
              "47650      140640           vilnca               158          2885   \n",
              "47651      140644  abwmhmd42014503                21          3471   \n",
              "\n",
              "                                                    text  retweets  likes  \\\n",
              "0       الحج المبرور ليس له جزاء إلا الجنة#السيرة_كأن...     222.0    0.0   \n",
              "1        رئيس ساحل العاج يرفض البروتوكول السعودي في الحج     161.0    0.0   \n",
              "2       ما تقوم به بلادنا في خدمة حجاج بيت الله الحرا...     692.0    0.0   \n",
              "3      شكرا_قيادتنا_على_نجاح_الحج الحمدلله حتى يبلغ ا...    2681.0    0.0   \n",
              "4       الاتحاد الأوروبي: السعودية نجحت بإدارة موسم #...      63.0    0.0   \n",
              "...                                                  ...       ...    ...   \n",
              "47647  @MtjrRyf @n_2ad ادخل على وازرة الحج واحجز عالذ...       0.0    0.0   \n",
              "47648  اليوم 8 ذي الحجة هو يوم التروية حيث تبدأ اول م...      21.0  231.0   \n",
              "47649  @kamalsinai كتب الله لنا ولكم الحج والعمرة مرة...       0.0    1.0   \n",
              "47650                            يازييييين مشاعر الحج 🥹🤍       0.0    1.0   \n",
              "47651  @marsdnews24 الله يقويهم على المفسدين اللي فتر...       0.0    0.0   \n",
              "\n",
              "                                               norm_text auto_lable  \n",
              "0       الحج المبرور ليس له جزاء الا الجنه السيره كان...   positive  \n",
              "1        رئيس ساحل العاج يرفض البروتوكول السعودى فى الحج    neutral  \n",
              "2       ما تقوم به بلادنا فى خدمه حجاج بيت الله الحرا...   positive  \n",
              "3      شكرا قيادتنا على نجاح الحج الحمدلله حتى يبلغ ا...   positive  \n",
              "4       الاتحاد الاوروبى السعوديه نجحت باداره موسم ال...    neutral  \n",
              "...                                                  ...        ...  \n",
              "47647                ادخل على وازره الحج واحجز عالذاكرين    neutral  \n",
              "47648  اليوم ذى الحجه هو يوم الترويه حيث تبدا اول منا...   positive  \n",
              "47649         كتب الله لنا ولكم الحج والعمره مره بعد مره   positive  \n",
              "47650                                 يازيين مشاعر الحج    positive  \n",
              "47651   الله يقويهم على المفسدين اللى فتره الحج بالنس...   positive  \n",
              "\n",
              "[47652 rows x 9 columns]"
            ],
            "text/html": [
              "\n",
              "  <div id=\"df-5943fc78-c8c5-4b1a-aad0-0e3c46106c0e\">\n",
              "    <div class=\"colab-df-container\">\n",
              "      <div>\n",
              "<style scoped>\n",
              "    .dataframe tbody tr th:only-of-type {\n",
              "        vertical-align: middle;\n",
              "    }\n",
              "\n",
              "    .dataframe tbody tr th {\n",
              "        vertical-align: top;\n",
              "    }\n",
              "\n",
              "    .dataframe thead th {\n",
              "        text-align: right;\n",
              "    }\n",
              "</style>\n",
              "<table border=\"1\" class=\"dataframe\">\n",
              "  <thead>\n",
              "    <tr style=\"text-align: right;\">\n",
              "      <th></th>\n",
              "      <th>Unnamed: 0</th>\n",
              "      <th>username</th>\n",
              "      <th>author_followers</th>\n",
              "      <th>author_tweets</th>\n",
              "      <th>text</th>\n",
              "      <th>retweets</th>\n",
              "      <th>likes</th>\n",
              "      <th>norm_text</th>\n",
              "      <th>auto_lable</th>\n",
              "    </tr>\n",
              "  </thead>\n",
              "  <tbody>\n",
              "    <tr>\n",
              "      <th>0</th>\n",
              "      <td>0</td>\n",
              "      <td>raumunz</td>\n",
              "      <td>3070</td>\n",
              "      <td>1054648</td>\n",
              "      <td>الحج المبرور ليس له جزاء إلا الجنة#السيرة_كأن...</td>\n",
              "      <td>222.0</td>\n",
              "      <td>0.0</td>\n",
              "      <td>الحج المبرور ليس له جزاء الا الجنه السيره كان...</td>\n",
              "      <td>positive</td>\n",
              "    </tr>\n",
              "    <tr>\n",
              "      <th>1</th>\n",
              "      <td>1</td>\n",
              "      <td>hesheey</td>\n",
              "      <td>713</td>\n",
              "      <td>19244</td>\n",
              "      <td>رئيس ساحل العاج يرفض البروتوكول السعودي في الحج</td>\n",
              "      <td>161.0</td>\n",
              "      <td>0.0</td>\n",
              "      <td>رئيس ساحل العاج يرفض البروتوكول السعودى فى الحج</td>\n",
              "      <td>neutral</td>\n",
              "    </tr>\n",
              "    <tr>\n",
              "      <th>2</th>\n",
              "      <td>2</td>\n",
              "      <td>ealam_itti</td>\n",
              "      <td>22300</td>\n",
              "      <td>22243</td>\n",
              "      <td>ما تقوم به بلادنا في خدمة حجاج بيت الله الحرا...</td>\n",
              "      <td>692.0</td>\n",
              "      <td>0.0</td>\n",
              "      <td>ما تقوم به بلادنا فى خدمه حجاج بيت الله الحرا...</td>\n",
              "      <td>positive</td>\n",
              "    </tr>\n",
              "    <tr>\n",
              "      <th>3</th>\n",
              "      <td>3</td>\n",
              "      <td>3krstzzm</td>\n",
              "      <td>54</td>\n",
              "      <td>7054</td>\n",
              "      <td>شكرا_قيادتنا_على_نجاح_الحج الحمدلله حتى يبلغ ا...</td>\n",
              "      <td>2681.0</td>\n",
              "      <td>0.0</td>\n",
              "      <td>شكرا قيادتنا على نجاح الحج الحمدلله حتى يبلغ ا...</td>\n",
              "      <td>positive</td>\n",
              "    </tr>\n",
              "    <tr>\n",
              "      <th>4</th>\n",
              "      <td>4</td>\n",
              "      <td>othman111mo</td>\n",
              "      <td>3563</td>\n",
              "      <td>146035</td>\n",
              "      <td>الاتحاد الأوروبي: السعودية نجحت بإدارة موسم #...</td>\n",
              "      <td>63.0</td>\n",
              "      <td>0.0</td>\n",
              "      <td>الاتحاد الاوروبى السعوديه نجحت باداره موسم ال...</td>\n",
              "      <td>neutral</td>\n",
              "    </tr>\n",
              "    <tr>\n",
              "      <th>...</th>\n",
              "      <td>...</td>\n",
              "      <td>...</td>\n",
              "      <td>...</td>\n",
              "      <td>...</td>\n",
              "      <td>...</td>\n",
              "      <td>...</td>\n",
              "      <td>...</td>\n",
              "      <td>...</td>\n",
              "      <td>...</td>\n",
              "    </tr>\n",
              "    <tr>\n",
              "      <th>47647</th>\n",
              "      <td>140631</td>\n",
              "      <td>cxi_52</td>\n",
              "      <td>7</td>\n",
              "      <td>128</td>\n",
              "      <td>@MtjrRyf @n_2ad ادخل على وازرة الحج واحجز عالذ...</td>\n",
              "      <td>0.0</td>\n",
              "      <td>0.0</td>\n",
              "      <td>ادخل على وازره الحج واحجز عالذاكرين</td>\n",
              "      <td>neutral</td>\n",
              "    </tr>\n",
              "    <tr>\n",
              "      <th>47648</th>\n",
              "      <td>140632</td>\n",
              "      <td>coachshreif3ouf</td>\n",
              "      <td>42009</td>\n",
              "      <td>114342</td>\n",
              "      <td>اليوم 8 ذي الحجة هو يوم التروية حيث تبدأ اول م...</td>\n",
              "      <td>21.0</td>\n",
              "      <td>231.0</td>\n",
              "      <td>اليوم ذى الحجه هو يوم الترويه حيث تبدا اول منا...</td>\n",
              "      <td>positive</td>\n",
              "    </tr>\n",
              "    <tr>\n",
              "      <th>47649</th>\n",
              "      <td>140638</td>\n",
              "      <td>LAljmazy</td>\n",
              "      <td>15</td>\n",
              "      <td>177</td>\n",
              "      <td>@kamalsinai كتب الله لنا ولكم الحج والعمرة مرة...</td>\n",
              "      <td>0.0</td>\n",
              "      <td>1.0</td>\n",
              "      <td>كتب الله لنا ولكم الحج والعمره مره بعد مره</td>\n",
              "      <td>positive</td>\n",
              "    </tr>\n",
              "    <tr>\n",
              "      <th>47650</th>\n",
              "      <td>140640</td>\n",
              "      <td>vilnca</td>\n",
              "      <td>158</td>\n",
              "      <td>2885</td>\n",
              "      <td>يازييييين مشاعر الحج 🥹🤍</td>\n",
              "      <td>0.0</td>\n",
              "      <td>1.0</td>\n",
              "      <td>يازيين مشاعر الحج</td>\n",
              "      <td>positive</td>\n",
              "    </tr>\n",
              "    <tr>\n",
              "      <th>47651</th>\n",
              "      <td>140644</td>\n",
              "      <td>abwmhmd42014503</td>\n",
              "      <td>21</td>\n",
              "      <td>3471</td>\n",
              "      <td>@marsdnews24 الله يقويهم على المفسدين اللي فتر...</td>\n",
              "      <td>0.0</td>\n",
              "      <td>0.0</td>\n",
              "      <td>الله يقويهم على المفسدين اللى فتره الحج بالنس...</td>\n",
              "      <td>positive</td>\n",
              "    </tr>\n",
              "  </tbody>\n",
              "</table>\n",
              "<p>47652 rows × 9 columns</p>\n",
              "</div>\n",
              "      <button class=\"colab-df-convert\" onclick=\"convertToInteractive('df-5943fc78-c8c5-4b1a-aad0-0e3c46106c0e')\"\n",
              "              title=\"Convert this dataframe to an interactive table.\"\n",
              "              style=\"display:none;\">\n",
              "        \n",
              "  <svg xmlns=\"http://www.w3.org/2000/svg\" height=\"24px\"viewBox=\"0 0 24 24\"\n",
              "       width=\"24px\">\n",
              "    <path d=\"M0 0h24v24H0V0z\" fill=\"none\"/>\n",
              "    <path d=\"M18.56 5.44l.94 2.06.94-2.06 2.06-.94-2.06-.94-.94-2.06-.94 2.06-2.06.94zm-11 1L8.5 8.5l.94-2.06 2.06-.94-2.06-.94L8.5 2.5l-.94 2.06-2.06.94zm10 10l.94 2.06.94-2.06 2.06-.94-2.06-.94-.94-2.06-.94 2.06-2.06.94z\"/><path d=\"M17.41 7.96l-1.37-1.37c-.4-.4-.92-.59-1.43-.59-.52 0-1.04.2-1.43.59L10.3 9.45l-7.72 7.72c-.78.78-.78 2.05 0 2.83L4 21.41c.39.39.9.59 1.41.59.51 0 1.02-.2 1.41-.59l7.78-7.78 2.81-2.81c.8-.78.8-2.07 0-2.86zM5.41 20L4 18.59l7.72-7.72 1.47 1.35L5.41 20z\"/>\n",
              "  </svg>\n",
              "      </button>\n",
              "      \n",
              "  <style>\n",
              "    .colab-df-container {\n",
              "      display:flex;\n",
              "      flex-wrap:wrap;\n",
              "      gap: 12px;\n",
              "    }\n",
              "\n",
              "    .colab-df-convert {\n",
              "      background-color: #E8F0FE;\n",
              "      border: none;\n",
              "      border-radius: 50%;\n",
              "      cursor: pointer;\n",
              "      display: none;\n",
              "      fill: #1967D2;\n",
              "      height: 32px;\n",
              "      padding: 0 0 0 0;\n",
              "      width: 32px;\n",
              "    }\n",
              "\n",
              "    .colab-df-convert:hover {\n",
              "      background-color: #E2EBFA;\n",
              "      box-shadow: 0px 1px 2px rgba(60, 64, 67, 0.3), 0px 1px 3px 1px rgba(60, 64, 67, 0.15);\n",
              "      fill: #174EA6;\n",
              "    }\n",
              "\n",
              "    [theme=dark] .colab-df-convert {\n",
              "      background-color: #3B4455;\n",
              "      fill: #D2E3FC;\n",
              "    }\n",
              "\n",
              "    [theme=dark] .colab-df-convert:hover {\n",
              "      background-color: #434B5C;\n",
              "      box-shadow: 0px 1px 3px 1px rgba(0, 0, 0, 0.15);\n",
              "      filter: drop-shadow(0px 1px 2px rgba(0, 0, 0, 0.3));\n",
              "      fill: #FFFFFF;\n",
              "    }\n",
              "  </style>\n",
              "\n",
              "      <script>\n",
              "        const buttonEl =\n",
              "          document.querySelector('#df-5943fc78-c8c5-4b1a-aad0-0e3c46106c0e button.colab-df-convert');\n",
              "        buttonEl.style.display =\n",
              "          google.colab.kernel.accessAllowed ? 'block' : 'none';\n",
              "\n",
              "        async function convertToInteractive(key) {\n",
              "          const element = document.querySelector('#df-5943fc78-c8c5-4b1a-aad0-0e3c46106c0e');\n",
              "          const dataTable =\n",
              "            await google.colab.kernel.invokeFunction('convertToInteractive',\n",
              "                                                     [key], {});\n",
              "          if (!dataTable) return;\n",
              "\n",
              "          const docLinkHtml = 'Like what you see? Visit the ' +\n",
              "            '<a target=\"_blank\" href=https://colab.research.google.com/notebooks/data_table.ipynb>data table notebook</a>'\n",
              "            + ' to learn more about interactive tables.';\n",
              "          element.innerHTML = '';\n",
              "          dataTable['output_type'] = 'display_data';\n",
              "          await google.colab.output.renderOutput(dataTable, element);\n",
              "          const docLink = document.createElement('div');\n",
              "          docLink.innerHTML = docLinkHtml;\n",
              "          element.appendChild(docLink);\n",
              "        }\n",
              "      </script>\n",
              "    </div>\n",
              "  </div>\n",
              "  "
            ]
          },
          "metadata": {},
          "execution_count": 72
        }
      ]
    },
    {
      "cell_type": "code",
      "source": [
        "df.groupby('auto_lable').size().plot(kind='bar', title='number of persons per class')"
      ],
      "metadata": {
        "colab": {
          "base_uri": "https://localhost:8080/",
          "height": 347
        },
        "id": "7yAvW4fu8MTi",
        "outputId": "ab70fc9a-4c92-4413-c903-575011990c1e"
      },
      "execution_count": null,
      "outputs": [
        {
          "output_type": "execute_result",
          "data": {
            "text/plain": [
              "<matplotlib.axes._subplots.AxesSubplot at 0x7f601fccde50>"
            ]
          },
          "metadata": {},
          "execution_count": 215
        },
        {
          "output_type": "display_data",
          "data": {
            "text/plain": [
              "<Figure size 432x288 with 1 Axes>"
            ],
            "image/png": "[encoded data removed]"
          },
          "metadata": {
            "needs_background": "light"
          }
        }
      ]
    },
    {
      "cell_type": "code",
      "source": [
        "len(df[df['auto_lable']=='negative']),len(df[df['auto_lable']=='neutral']),len(df[df['auto_lable']=='positive'])"
      ],
      "metadata": {
        "colab": {
          "base_uri": "https://localhost:8080/"
        },
        "id": "ZewkMKC_8eFe",
        "outputId": "bc97b037-d489-40f3-b4ed-a90814e15e91"
      },
      "execution_count": null,
      "outputs": [
        {
          "output_type": "execute_result",
          "data": {
            "text/plain": [
              "(15809, 8530, 23313)"
            ]
          },
          "metadata": {},
          "execution_count": 211
        }
      ]
    },
    {
      "cell_type": "code",
      "source": [
        "df[df['likes'].isna()]"
      ],
      "metadata": {
        "colab": {
          "base_uri": "https://localhost:8080/",
          "height": 208
        },
        "id": "5cFohAG_s-KX",
        "outputId": "133801bc-ca50-4b77-9823-ab24c0271220"
      },
      "execution_count": null,
      "outputs": [
        {
          "output_type": "execute_result",
          "data": {
            "text/plain": [
              "       Unnamed: 0         username     author_followers  \\\n",
              "2924         9033              NaN  1546838257987735552   \n",
              "45009      130599  alshamari123456                 3370   \n",
              "\n",
              "                                           author_tweets  \\\n",
              "2924   أظهر مقطع فيديو لحظة انفعال أحد الحجاج أثناء ر...   \n",
              "45009                                              13842   \n",
              "\n",
              "                                             text  retweets  likes  \\\n",
              "2924                                            1       NaN    NaN   \n",
              "45009  يوم عَرفةمــن الأيام العشرة الفاضله ،أفضِل       NaN    NaN   \n",
              "\n",
              "                                   norm_text auto_lable  \n",
              "2924                                     NaN    neutral  \n",
              "45009  يوم رفهمــن الايام العشره الفاضله افض   positive  "
            ],
            "text/html": [
              "\n",
              "  <div id=\"df-a4873f57-a9a7-4b57-90b0-57827116bbb1\">\n",
              "    <div class=\"colab-df-container\">\n",
              "      <div>\n",
              "<style scoped>\n",
              "    .dataframe tbody tr th:only-of-type {\n",
              "        vertical-align: middle;\n",
              "    }\n",
              "\n",
              "    .dataframe tbody tr th {\n",
              "        vertical-align: top;\n",
              "    }\n",
              "\n",
              "    .dataframe thead th {\n",
              "        text-align: right;\n",
              "    }\n",
              "</style>\n",
              "<table border=\"1\" class=\"dataframe\">\n",
              "  <thead>\n",
              "    <tr style=\"text-align: right;\">\n",
              "      <th></th>\n",
              "      <th>Unnamed: 0</th>\n",
              "      <th>username</th>\n",
              "      <th>author_followers</th>\n",
              "      <th>author_tweets</th>\n",
              "      <th>text</th>\n",
              "      <th>retweets</th>\n",
              "      <th>likes</th>\n",
              "      <th>norm_text</th>\n",
              "      <th>auto_lable</th>\n",
              "    </tr>\n",
              "  </thead>\n",
              "  <tbody>\n",
              "    <tr>\n",
              "      <th>2924</th>\n",
              "      <td>9033</td>\n",
              "      <td>NaN</td>\n",
              "      <td>1546838257987735552</td>\n",
              "      <td>أظهر مقطع فيديو لحظة انفعال أحد الحجاج أثناء ر...</td>\n",
              "      <td>1</td>\n",
              "      <td>NaN</td>\n",
              "      <td>NaN</td>\n",
              "      <td>NaN</td>\n",
              "      <td>neutral</td>\n",
              "    </tr>\n",
              "    <tr>\n",
              "      <th>45009</th>\n",
              "      <td>130599</td>\n",
              "      <td>alshamari123456</td>\n",
              "      <td>3370</td>\n",
              "      <td>13842</td>\n",
              "      <td>يوم عَرفةمــن الأيام العشرة الفاضله ،أفضِل</td>\n",
              "      <td>NaN</td>\n",
              "      <td>NaN</td>\n",
              "      <td>يوم رفهمــن الايام العشره الفاضله افض</td>\n",
              "      <td>positive</td>\n",
              "    </tr>\n",
              "  </tbody>\n",
              "</table>\n",
              "</div>\n",
              "      <button class=\"colab-df-convert\" onclick=\"convertToInteractive('df-a4873f57-a9a7-4b57-90b0-57827116bbb1')\"\n",
              "              title=\"Convert this dataframe to an interactive table.\"\n",
              "              style=\"display:none;\">\n",
              "        \n",
              "  <svg xmlns=\"http://www.w3.org/2000/svg\" height=\"24px\"viewBox=\"0 0 24 24\"\n",
              "       width=\"24px\">\n",
              "    <path d=\"M0 0h24v24H0V0z\" fill=\"none\"/>\n",
              "    <path d=\"M18.56 5.44l.94 2.06.94-2.06 2.06-.94-2.06-.94-.94-2.06-.94 2.06-2.06.94zm-11 1L8.5 8.5l.94-2.06 2.06-.94-2.06-.94L8.5 2.5l-.94 2.06-2.06.94zm10 10l.94 2.06.94-2.06 2.06-.94-2.06-.94-.94-2.06-.94 2.06-2.06.94z\"/><path d=\"M17.41 7.96l-1.37-1.37c-.4-.4-.92-.59-1.43-.59-.52 0-1.04.2-1.43.59L10.3 9.45l-7.72 7.72c-.78.78-.78 2.05 0 2.83L4 21.41c.39.39.9.59 1.41.59.51 0 1.02-.2 1.41-.59l7.78-7.78 2.81-2.81c.8-.78.8-2.07 0-2.86zM5.41 20L4 18.59l7.72-7.72 1.47 1.35L5.41 20z\"/>\n",
              "  </svg>\n",
              "      </button>\n",
              "      \n",
              "  <style>\n",
              "    .colab-df-container {\n",
              "      display:flex;\n",
              "      flex-wrap:wrap;\n",
              "      gap: 12px;\n",
              "    }\n",
              "\n",
              "    .colab-df-convert {\n",
              "      background-color: #E8F0FE;\n",
              "      border: none;\n",
              "      border-radius: 50%;\n",
              "      cursor: pointer;\n",
              "      display: none;\n",
              "      fill: #1967D2;\n",
              "      height: 32px;\n",
              "      padding: 0 0 0 0;\n",
              "      width: 32px;\n",
              "    }\n",
              "\n",
              "    .colab-df-convert:hover {\n",
              "      background-color: #E2EBFA;\n",
              "      box-shadow: 0px 1px 2px rgba(60, 64, 67, 0.3), 0px 1px 3px 1px rgba(60, 64, 67, 0.15);\n",
              "      fill: #174EA6;\n",
              "    }\n",
              "\n",
              "    [theme=dark] .colab-df-convert {\n",
              "      background-color: #3B4455;\n",
              "      fill: #D2E3FC;\n",
              "    }\n",
              "\n",
              "    [theme=dark] .colab-df-convert:hover {\n",
              "      background-color: #434B5C;\n",
              "      box-shadow: 0px 1px 3px 1px rgba(0, 0, 0, 0.15);\n",
              "      filter: drop-shadow(0px 1px 2px rgba(0, 0, 0, 0.3));\n",
              "      fill: #FFFFFF;\n",
              "    }\n",
              "  </style>\n",
              "\n",
              "      <script>\n",
              "        const buttonEl =\n",
              "          document.querySelector('#df-a4873f57-a9a7-4b57-90b0-57827116bbb1 button.colab-df-convert');\n",
              "        buttonEl.style.display =\n",
              "          google.colab.kernel.accessAllowed ? 'block' : 'none';\n",
              "\n",
              "        async function convertToInteractive(key) {\n",
              "          const element = document.querySelector('#df-a4873f57-a9a7-4b57-90b0-57827116bbb1');\n",
              "          const dataTable =\n",
              "            await google.colab.kernel.invokeFunction('convertToInteractive',\n",
              "                                                     [key], {});\n",
              "          if (!dataTable) return;\n",
              "\n",
              "          const docLinkHtml = 'Like what you see? Visit the ' +\n",
              "            '<a target=\"_blank\" href=https://colab.research.google.com/notebooks/data_table.ipynb>data table notebook</a>'\n",
              "            + ' to learn more about interactive tables.';\n",
              "          element.innerHTML = '';\n",
              "          dataTable['output_type'] = 'display_data';\n",
              "          await google.colab.output.renderOutput(dataTable, element);\n",
              "          const docLink = document.createElement('div');\n",
              "          docLink.innerHTML = docLinkHtml;\n",
              "          element.appendChild(docLink);\n",
              "        }\n",
              "      </script>\n",
              "    </div>\n",
              "  </div>\n",
              "  "
            ]
          },
          "metadata": {},
          "execution_count": 217
        }
      ]
    },
    {
      "cell_type": "code",
      "source": [
        "df[df['likes']==100]"
      ],
      "metadata": {
        "colab": {
          "base_uri": "https://localhost:8080/",
          "height": 239
        },
        "id": "HRRKWpZy-OBS",
        "outputId": "ed5526da-a71d-403f-df6e-6557fd32efe5"
      },
      "execution_count": null,
      "outputs": [
        {
          "output_type": "execute_result",
          "data": {
            "text/plain": [
              "       Unnamed: 0         username  author_followers author_tweets  \\\n",
              "17378       46367  moh_rawdhan_ye1             80841         63714   \n",
              "28543       76648           vip_se              1580           268   \n",
              "32165       87698    M_Emin_Uyguri              3367          2893   \n",
              "\n",
              "                                                    text  retweets  likes  \\\n",
              "17378                  اليهود يمنعون المسلمين من الحج ..       7.0  100.0   \n",
              "28543  @llidexx @Eyaaaad عند الدين لاتدخل الجنسية وال...       4.0  100.0   \n",
              "32165  الوقوف في يوم عرفة وأيام مناسك الحج والعمرة - ...      33.0  100.0   \n",
              "\n",
              "                                               norm_text auto_lable  \n",
              "17378                    اليهود يمنعون المسلمين من الحج    negative  \n",
              "28543   عند الدين لاتدخل الجنسيه واللغه تراه مسلم ىعن...   negative  \n",
              "32165  الوقوف فى يوم عرفه وايام مناسك الحج والعمره مك...   negative  "
            ],
            "text/html": [
              "\n",
              "  <div id=\"df-b6c758f9-1f40-4e33-b3d4-d9614c750bc8\">\n",
              "    <div class=\"colab-df-container\">\n",
              "      <div>\n",
              "<style scoped>\n",
              "    .dataframe tbody tr th:only-of-type {\n",
              "        vertical-align: middle;\n",
              "    }\n",
              "\n",
              "    .dataframe tbody tr th {\n",
              "        vertical-align: top;\n",
              "    }\n",
              "\n",
              "    .dataframe thead th {\n",
              "        text-align: right;\n",
              "    }\n",
              "</style>\n",
              "<table border=\"1\" class=\"dataframe\">\n",
              "  <thead>\n",
              "    <tr style=\"text-align: right;\">\n",
              "      <th></th>\n",
              "      <th>Unnamed: 0</th>\n",
              "      <th>username</th>\n",
              "      <th>author_followers</th>\n",
              "      <th>author_tweets</th>\n",
              "      <th>text</th>\n",
              "      <th>retweets</th>\n",
              "      <th>likes</th>\n",
              "      <th>norm_text</th>\n",
              "      <th>auto_lable</th>\n",
              "    </tr>\n",
              "  </thead>\n",
              "  <tbody>\n",
              "    <tr>\n",
              "      <th>17378</th>\n",
              "      <td>46367</td>\n",
              "      <td>moh_rawdhan_ye1</td>\n",
              "      <td>80841</td>\n",
              "      <td>63714</td>\n",
              "      <td>اليهود يمنعون المسلمين من الحج ..</td>\n",
              "      <td>7.0</td>\n",
              "      <td>100.0</td>\n",
              "      <td>اليهود يمنعون المسلمين من الحج</td>\n",
              "      <td>negative</td>\n",
              "    </tr>\n",
              "    <tr>\n",
              "      <th>28543</th>\n",
              "      <td>76648</td>\n",
              "      <td>vip_se</td>\n",
              "      <td>1580</td>\n",
              "      <td>268</td>\n",
              "      <td>@llidexx @Eyaaaad عند الدين لاتدخل الجنسية وال...</td>\n",
              "      <td>4.0</td>\n",
              "      <td>100.0</td>\n",
              "      <td>عند الدين لاتدخل الجنسيه واللغه تراه مسلم ىعن...</td>\n",
              "      <td>negative</td>\n",
              "    </tr>\n",
              "    <tr>\n",
              "      <th>32165</th>\n",
              "      <td>87698</td>\n",
              "      <td>M_Emin_Uyguri</td>\n",
              "      <td>3367</td>\n",
              "      <td>2893</td>\n",
              "      <td>الوقوف في يوم عرفة وأيام مناسك الحج والعمرة - ...</td>\n",
              "      <td>33.0</td>\n",
              "      <td>100.0</td>\n",
              "      <td>الوقوف فى يوم عرفه وايام مناسك الحج والعمره مك...</td>\n",
              "      <td>negative</td>\n",
              "    </tr>\n",
              "  </tbody>\n",
              "</table>\n",
              "</div>\n",
              "      <button class=\"colab-df-convert\" onclick=\"convertToInteractive('df-b6c758f9-1f40-4e33-b3d4-d9614c750bc8')\"\n",
              "              title=\"Convert this dataframe to an interactive table.\"\n",
              "              style=\"display:none;\">\n",
              "        \n",
              "  <svg xmlns=\"http://www.w3.org/2000/svg\" height=\"24px\"viewBox=\"0 0 24 24\"\n",
              "       width=\"24px\">\n",
              "    <path d=\"M0 0h24v24H0V0z\" fill=\"none\"/>\n",
              "    <path d=\"M18.56 5.44l.94 2.06.94-2.06 2.06-.94-2.06-.94-.94-2.06-.94 2.06-2.06.94zm-11 1L8.5 8.5l.94-2.06 2.06-.94-2.06-.94L8.5 2.5l-.94 2.06-2.06.94zm10 10l.94 2.06.94-2.06 2.06-.94-2.06-.94-.94-2.06-.94 2.06-2.06.94z\"/><path d=\"M17.41 7.96l-1.37-1.37c-.4-.4-.92-.59-1.43-.59-.52 0-1.04.2-1.43.59L10.3 9.45l-7.72 7.72c-.78.78-.78 2.05 0 2.83L4 21.41c.39.39.9.59 1.41.59.51 0 1.02-.2 1.41-.59l7.78-7.78 2.81-2.81c.8-.78.8-2.07 0-2.86zM5.41 20L4 18.59l7.72-7.72 1.47 1.35L5.41 20z\"/>\n",
              "  </svg>\n",
              "      </button>\n",
              "      \n",
              "  <style>\n",
              "    .colab-df-container {\n",
              "      display:flex;\n",
              "      flex-wrap:wrap;\n",
              "      gap: 12px;\n",
              "    }\n",
              "\n",
              "    .colab-df-convert {\n",
              "      background-color: #E8F0FE;\n",
              "      border: none;\n",
              "      border-radius: 50%;\n",
              "      cursor: pointer;\n",
              "      display: none;\n",
              "      fill: #1967D2;\n",
              "      height: 32px;\n",
              "      padding: 0 0 0 0;\n",
              "      width: 32px;\n",
              "    }\n",
              "\n",
              "    .colab-df-convert:hover {\n",
              "      background-color: #E2EBFA;\n",
              "      box-shadow: 0px 1px 2px rgba(60, 64, 67, 0.3), 0px 1px 3px 1px rgba(60, 64, 67, 0.15);\n",
              "      fill: #174EA6;\n",
              "    }\n",
              "\n",
              "    [theme=dark] .colab-df-convert {\n",
              "      background-color: #3B4455;\n",
              "      fill: #D2E3FC;\n",
              "    }\n",
              "\n",
              "    [theme=dark] .colab-df-convert:hover {\n",
              "      background-color: #434B5C;\n",
              "      box-shadow: 0px 1px 3px 1px rgba(0, 0, 0, 0.15);\n",
              "      filter: drop-shadow(0px 1px 2px rgba(0, 0, 0, 0.3));\n",
              "      fill: #FFFFFF;\n",
              "    }\n",
              "  </style>\n",
              "\n",
              "      <script>\n",
              "        const buttonEl =\n",
              "          document.querySelector('#df-b6c758f9-1f40-4e33-b3d4-d9614c750bc8 button.colab-df-convert');\n",
              "        buttonEl.style.display =\n",
              "          google.colab.kernel.accessAllowed ? 'block' : 'none';\n",
              "\n",
              "        async function convertToInteractive(key) {\n",
              "          const element = document.querySelector('#df-b6c758f9-1f40-4e33-b3d4-d9614c750bc8');\n",
              "          const dataTable =\n",
              "            await google.colab.kernel.invokeFunction('convertToInteractive',\n",
              "                                                     [key], {});\n",
              "          if (!dataTable) return;\n",
              "\n",
              "          const docLinkHtml = 'Like what you see? Visit the ' +\n",
              "            '<a target=\"_blank\" href=https://colab.research.google.com/notebooks/data_table.ipynb>data table notebook</a>'\n",
              "            + ' to learn more about interactive tables.';\n",
              "          element.innerHTML = '';\n",
              "          dataTable['output_type'] = 'display_data';\n",
              "          await google.colab.output.renderOutput(dataTable, element);\n",
              "          const docLink = document.createElement('div');\n",
              "          docLink.innerHTML = docLinkHtml;\n",
              "          element.appendChild(docLink);\n",
              "        }\n",
              "      </script>\n",
              "    </div>\n",
              "  </div>\n",
              "  "
            ]
          },
          "metadata": {},
          "execution_count": 218
        }
      ]
    },
    {
      "cell_type": "code",
      "source": [
        "df['likes'].value_counts()"
      ],
      "metadata": {
        "colab": {
          "base_uri": "https://localhost:8080/"
        },
        "id": "yVE1aUabtpHF",
        "outputId": "8c145297-30c1-4b2c-9c63-6f0055243d49"
      },
      "execution_count": null,
      "outputs": [
        {
          "output_type": "execute_result",
          "data": {
            "text/plain": [
              "0.0      28384\n",
              "1.0       8698\n",
              "2.0       3234\n",
              "3.0       1679\n",
              "4.0       1085\n",
              "         ...  \n",
              "230.0        1\n",
              "341.0        1\n",
              "92.0         1\n",
              "168.0        1\n",
              "231.0        1\n",
              "Name: likes, Length: 284, dtype: int64"
            ]
          },
          "metadata": {},
          "execution_count": 154
        }
      ]
    },
    {
      "cell_type": "code",
      "source": [
        "df_1000 = df[:1000]"
      ],
      "metadata": {
        "id": "iwVO4Rgcfcw8"
      },
      "execution_count": null,
      "outputs": []
    },
    {
      "cell_type": "code",
      "source": [
        "def get_gender(user_name):\n",
        "  response = requests.get(\"https://gender-api.com/get?name=\"+ user_name +\"&key=rUGC3e5SkfuY5PgNya7sbHD3qNsrY4D8qypK\")\n",
        "  return response.json()['gender']"
      ],
      "metadata": {
        "id": "E4DFv28-XXaj"
      },
      "execution_count": null,
      "outputs": []
    },
    {
      "cell_type": "code",
      "source": [
        "names = ['AMAL','RICK', 'LUJAIN', 'othman', 'abwmhmd','ealam']\n",
        "for name in names:\n",
        "  print(f'{name} is a {get_gender(name)}')"
      ],
      "metadata": {
        "colab": {
          "base_uri": "https://localhost:8080/"
        },
        "id": "RUHxvMHJqsJn",
        "outputId": "e2f4513a-3792-4f50-c22a-2ab34d9d3fce"
      },
      "execution_count": null,
      "outputs": [
        {
          "output_type": "stream",
          "name": "stdout",
          "text": [
            "AMAL is a female\n",
            "RICK is a male\n",
            "LUJAIN is a female\n",
            "othman is a male\n",
            "abwmhmd is a unknown\n",
            "ealam is a unknown\n"
          ]
        }
      ]
    },
    {
      "cell_type": "code",
      "execution_count": null,
      "metadata": {
        "colab": {
          "base_uri": "https://localhost:8080/"
        },
        "id": "a4MX83OBKKA_",
        "outputId": "860148d6-f3de-450d-cfa5-9aa5b4235b99"
      },
      "outputs": [
        {
          "output_type": "stream",
          "name": "stderr",
          "text": [
            "/usr/local/lib/python3.7/dist-packages/ipykernel_launcher.py:1: SettingWithCopyWarning: \n",
            "A value is trying to be set on a copy of a slice from a DataFrame.\n",
            "Try using .loc[row_indexer,col_indexer] = value instead\n",
            "\n",
            "See the caveats in the documentation: https://pandas.pydata.org/pandas-docs/stable/user_guide/indexing.html#returning-a-view-versus-a-copy\n",
            "  \"\"\"Entry point for launching an IPython kernel.\n"
          ]
        }
      ],
      "source": [
        "df_1000['gender'] = df_1000['username'].apply(str).apply(str.capitalize).map(lambda x: get_gender(x))"
      ]
    },
    {
      "cell_type": "code",
      "source": [
        "df_1000['gender'].value_counts()"
      ],
      "metadata": {
        "colab": {
          "base_uri": "https://localhost:8080/"
        },
        "id": "O7gYP8sZT5Lh",
        "outputId": "dcecfce3-9ed1-487e-8d3c-fb3e2bc7d4fa"
      },
      "execution_count": null,
      "outputs": [
        {
          "output_type": "execute_result",
          "data": {
            "text/plain": [
              "unknown    814\n",
              "male       140\n",
              "female      46\n",
              "Name: gender, dtype: int64"
            ]
          },
          "metadata": {},
          "execution_count": 242
        }
      ]
    },
    {
      "cell_type": "markdown",
      "source": [
        "### Visualization"
      ],
      "metadata": {
        "id": "sEkoOMS92xpp"
      }
    },
    {
      "cell_type": "code",
      "source": [
        "# \n",
        "fig, ax1 = plt.subplots(ncols=1, figsize=(10, 5))\n",
        "df_1000.groupby('gender').size().plot(kind='bar', ax=ax1, ylabel='Count', title='number of persons by gender')\n",
        "plt.show()"
      ],
      "metadata": {
        "colab": {
          "base_uri": "https://localhost:8080/",
          "height": 385
        },
        "id": "1MSQ46bMYoFm",
        "outputId": "bb8c2a85-3d13-4313-cefe-568f7af763f0"
      },
      "execution_count": null,
      "outputs": [
        {
          "output_type": "display_data",
          "data": {
            "text/plain": [
              "<Figure size 720x360 with 1 Axes>"
            ],
            "image/png": "[encoded data removed]"
          },
          "metadata": {
            "needs_background": "light"
          }
        }
      ]
    },
    {
      "cell_type": "code",
      "source": [
        "df_1000[df_1000['gender']=='unknown']['username']"
      ],
      "metadata": {
        "colab": {
          "base_uri": "https://localhost:8080/"
        },
        "id": "LHnA2YrV_VUV",
        "outputId": "de63f810-aef4-47f1-b98e-f043a322fdf1"
      },
      "execution_count": null,
      "outputs": [
        {
          "output_type": "execute_result",
          "data": {
            "text/plain": [
              "0              raumunz\n",
              "1              hesheey\n",
              "2           ealam_itti\n",
              "3             3krstzzm\n",
              "4          othman111mo\n",
              "            ...       \n",
              "994    AboKhaledAboK12\n",
              "995         uaesafeera\n",
              "996         saqashqary\n",
              "997         Nonyamh500\n",
              "999           Golathos\n",
              "Name: username, Length: 814, dtype: object"
            ]
          },
          "metadata": {},
          "execution_count": 245
        }
      ]
    },
    {
      "cell_type": "code",
      "source": [
        "len(df_1000[df_1000['gender']=='male']),len(df_1000[df_1000['gender']=='female'])"
      ],
      "metadata": {
        "colab": {
          "base_uri": "https://localhost:8080/"
        },
        "id": "8ruQkKup19wZ",
        "outputId": "630f8cc2-4099-46e7-9583-999640881112"
      },
      "execution_count": null,
      "outputs": [
        {
          "output_type": "execute_result",
          "data": {
            "text/plain": [
              "(140, 46)"
            ]
          },
          "metadata": {},
          "execution_count": 246
        }
      ]
    },
    {
      "cell_type": "code",
      "source": [
        "fig, ax1 = plt.subplots(ncols=1, figsize=(10, 5))\n",
        "\n",
        "df_1000.groupby('auto_lable').size().plot(kind='bar', ax=ax1, ylabel='Count', title='number of persons by class')\n",
        "\n",
        "plt.show()"
      ],
      "metadata": {
        "colab": {
          "base_uri": "https://localhost:8080/",
          "height": 384
        },
        "id": "k7e_Sedek_ch",
        "outputId": "6d646d60-0e8b-4e93-e902-20b05a2bcef4"
      },
      "execution_count": null,
      "outputs": [
        {
          "output_type": "display_data",
          "data": {
            "text/plain": [
              "<Figure size 720x360 with 1 Axes>"
            ],
            "image/png": "[encoded data removed]"
          },
          "metadata": {
            "needs_background": "light"
          }
        }
      ]
    },
    {
      "cell_type": "code",
      "source": [
        "len(df_1000[df_1000['auto_lable']=='negative'])"
      ],
      "metadata": {
        "colab": {
          "base_uri": "https://localhost:8080/"
        },
        "id": "4l00jjmi14ar",
        "outputId": "a27e7404-d1d1-41a2-eeb2-52e08914216b"
      },
      "execution_count": null,
      "outputs": [
        {
          "output_type": "execute_result",
          "data": {
            "text/plain": [
              "402"
            ]
          },
          "metadata": {},
          "execution_count": 248
        }
      ]
    },
    {
      "cell_type": "code",
      "source": [
        "fig, ax1 = plt.subplots(ncols=1, figsize=(10, 5))\n",
        "\n",
        "df_1000[df_1000['gender']=='female'].groupby('auto_lable').size().plot(kind='bar', ax=ax1, ylabel='Count', title='number of females by class')\n",
        "\n",
        "plt.show()"
      ],
      "metadata": {
        "colab": {
          "base_uri": "https://localhost:8080/",
          "height": 384
        },
        "id": "mc1aNCC_lEpX",
        "outputId": "fa320401-8d83-488d-bf01-15000c1b0682"
      },
      "execution_count": null,
      "outputs": [
        {
          "output_type": "display_data",
          "data": {
            "text/plain": [
              "<Figure size 720x360 with 1 Axes>"
            ],
            "image/png": "[encoded data removed]"
          },
          "metadata": {
            "needs_background": "light"
          }
        }
      ]
    },
    {
      "cell_type": "code",
      "source": [
        "len(df_1000[df_1000['gender']=='female'][df_1000['auto_lable']=='negative'])"
      ],
      "metadata": {
        "colab": {
          "base_uri": "https://localhost:8080/"
        },
        "id": "HSvotL_U1B6R",
        "outputId": "4e1773f2-f207-47e6-87b7-cdad6e58e3e4"
      },
      "execution_count": null,
      "outputs": [
        {
          "output_type": "stream",
          "name": "stderr",
          "text": [
            "/usr/local/lib/python3.7/dist-packages/ipykernel_launcher.py:1: UserWarning: Boolean Series key will be reindexed to match DataFrame index.\n",
            "  \"\"\"Entry point for launching an IPython kernel.\n"
          ]
        },
        {
          "output_type": "execute_result",
          "data": {
            "text/plain": [
              "9"
            ]
          },
          "metadata": {},
          "execution_count": 250
        }
      ]
    },
    {
      "cell_type": "code",
      "source": [
        "fig, ax1 = plt.subplots(ncols=1, figsize=(10, 5))\n",
        "\n",
        "df_1000[df_1000['gender']=='male'].groupby('auto_lable').size().plot(kind='bar',ax=ax1, ylabel='Count', title='number of males by class')\n",
        "\n",
        "plt.show()"
      ],
      "metadata": {
        "colab": {
          "base_uri": "https://localhost:8080/",
          "height": 384
        },
        "id": "UrJS1PealrZd",
        "outputId": "d05c5714-9d20-435f-e91a-e11b2a413b86"
      },
      "execution_count": null,
      "outputs": [
        {
          "output_type": "display_data",
          "data": {
            "text/plain": [
              "<Figure size 720x360 with 1 Axes>"
            ],
            "image/png": "[encoded data removed]"
          },
          "metadata": {
            "needs_background": "light"
          }
        }
      ]
    },
    {
      "cell_type": "code",
      "source": [
        "len(df_1000[df_1000['gender']=='male'][df_1000['auto_lable']=='negative'])"
      ],
      "metadata": {
        "colab": {
          "base_uri": "https://localhost:8080/"
        },
        "id": "cIiz6hGM4Jds",
        "outputId": "9cb3bba7-943c-4a3d-94e6-4603a56792ff"
      },
      "execution_count": null,
      "outputs": [
        {
          "output_type": "stream",
          "name": "stderr",
          "text": [
            "/usr/local/lib/python3.7/dist-packages/ipykernel_launcher.py:1: UserWarning: Boolean Series key will be reindexed to match DataFrame index.\n",
            "  \"\"\"Entry point for launching an IPython kernel.\n"
          ]
        },
        {
          "output_type": "execute_result",
          "data": {
            "text/plain": [
              "65"
            ]
          },
          "metadata": {},
          "execution_count": 252
        }
      ]
    },
    {
      "cell_type": "code",
      "source": [
        "len(df_1000[df_1000['gender']=='unknown'][df_1000['auto_lable']=='negative'])"
      ],
      "metadata": {
        "colab": {
          "base_uri": "https://localhost:8080/"
        },
        "id": "TkMk2Mvc4RS_",
        "outputId": "c9fb9462-3403-48d3-9997-d29e464c9789"
      },
      "execution_count": null,
      "outputs": [
        {
          "output_type": "stream",
          "name": "stderr",
          "text": [
            "/usr/local/lib/python3.7/dist-packages/ipykernel_launcher.py:1: UserWarning: Boolean Series key will be reindexed to match DataFrame index.\n",
            "  \"\"\"Entry point for launching an IPython kernel.\n"
          ]
        },
        {
          "output_type": "execute_result",
          "data": {
            "text/plain": [
              "328"
            ]
          },
          "metadata": {},
          "execution_count": 253
        }
      ]
    },
    {
      "cell_type": "code",
      "source": [
        "df_1000[['retweets','gender']].groupby('gender').sum().plot(kind='bar',y='retweets',title=\"Number of Retweets for every gender\")"
      ],
      "metadata": {
        "colab": {
          "base_uri": "https://localhost:8080/",
          "height": 348
        },
        "id": "zs-PMsg_mDNy",
        "outputId": "b143a835-d6c8-4531-a518-e43d10134f3c"
      },
      "execution_count": null,
      "outputs": [
        {
          "output_type": "execute_result",
          "data": {
            "text/plain": [
              "<matplotlib.axes._subplots.AxesSubplot at 0x7f60200a9f50>"
            ]
          },
          "metadata": {},
          "execution_count": 254
        },
        {
          "output_type": "display_data",
          "data": {
            "text/plain": [
              "<Figure size 432x288 with 1 Axes>"
            ],
            "image/png": "[encoded data removed]"
          },
          "metadata": {
            "needs_background": "light"
          }
        }
      ]
    },
    {
      "cell_type": "code",
      "source": [
        "df_1000[['retweets','auto_lable']].groupby('auto_lable').sum().plot(kind='bar',y='retweets',title=\"Number of Retweets for every labels\")"
      ],
      "metadata": {
        "colab": {
          "base_uri": "https://localhost:8080/",
          "height": 347
        },
        "id": "e4YTr420paww",
        "outputId": "b83c2b4a-76ce-446b-b51e-8bc257119627"
      },
      "execution_count": null,
      "outputs": [
        {
          "output_type": "execute_result",
          "data": {
            "text/plain": [
              "<matplotlib.axes._subplots.AxesSubplot at 0x7f6023356bd0>"
            ]
          },
          "metadata": {},
          "execution_count": 255
        },
        {
          "output_type": "display_data",
          "data": {
            "text/plain": [
              "<Figure size 432x288 with 1 Axes>"
            ],
            "image/png": "[encoded data removed]"
          },
          "metadata": {
            "needs_background": "light"
          }
        }
      ]
    },
    {
      "cell_type": "code",
      "source": [
        "df_1000[['likes','gender']].groupby('gender').sum().plot(kind='bar',y='likes',title=\"Number of likes for every gender\")"
      ],
      "metadata": {
        "colab": {
          "base_uri": "https://localhost:8080/",
          "height": 348
        },
        "id": "H8TGE-MLsSGx",
        "outputId": "db3096e1-3389-4053-dce3-ef402c7203c2"
      },
      "execution_count": null,
      "outputs": [
        {
          "output_type": "execute_result",
          "data": {
            "text/plain": [
              "<matplotlib.axes._subplots.AxesSubplot at 0x7f602aa65450>"
            ]
          },
          "metadata": {},
          "execution_count": 256
        },
        {
          "output_type": "display_data",
          "data": {
            "text/plain": [
              "<Figure size 432x288 with 1 Axes>"
            ],
            "image/png": "[encoded data removed]"
          },
          "metadata": {
            "needs_background": "light"
          }
        }
      ]
    },
    {
      "cell_type": "code",
      "source": [
        "df_1000[['likes','auto_lable']].groupby('auto_lable').sum().plot(kind='bar',y='likes',title=\"Number of likes for every labels\")"
      ],
      "metadata": {
        "colab": {
          "base_uri": "https://localhost:8080/",
          "height": 347
        },
        "id": "RZRaO7SUswWX",
        "outputId": "74f5701b-d1a8-4a20-a277-7b852977aebd"
      },
      "execution_count": null,
      "outputs": [
        {
          "output_type": "execute_result",
          "data": {
            "text/plain": [
              "<matplotlib.axes._subplots.AxesSubplot at 0x7f602babf950>"
            ]
          },
          "metadata": {},
          "execution_count": 257
        },
        {
          "output_type": "display_data",
          "data": {
            "text/plain": [
              "<Figure size 432x288 with 1 Axes>"
            ],
            "image/png": "[encoded data removed]"
          },
          "metadata": {
            "needs_background": "light"
          }
        }
      ]
    },
    {
      "cell_type": "code",
      "source": [
        ""
      ],
      "metadata": {
        "id": "9XXU-Xo1s3MT"
      },
      "execution_count": null,
      "outputs": []
    },
    {
      "cell_type": "code",
      "source": [
        "all_data = pd.read_csv('/content/final_data.csv')"
      ],
      "metadata": {
        "id": "2kQI0AnLJ6J5"
      },
      "execution_count": null,
      "outputs": []
    },
    {
      "cell_type": "code",
      "source": [
        "all_data"
      ],
      "metadata": {
        "colab": {
          "base_uri": "https://localhost:8080/",
          "height": 797
        },
        "id": "XFmVI9FGL4_l",
        "outputId": "1f1524af-62c9-4146-a879-353e3acbf65a"
      },
      "execution_count": null,
      "outputs": [
        {
          "output_type": "execute_result",
          "data": {
            "text/plain": [
              "       Unnamed: 0         username  author_followers author_tweets  \\\n",
              "0               0          raumunz              3070       1054648   \n",
              "1               1          hesheey               713         19244   \n",
              "2               2       ealam_itti             22300         22243   \n",
              "3               3         3krstzzm                54          7054   \n",
              "4               4      othman111mo              3563        146035   \n",
              "...           ...              ...               ...           ...   \n",
              "47647      140631           cxi_52                 7           128   \n",
              "47648      140632  coachshreif3ouf             42009        114342   \n",
              "47649      140638         LAljmazy                15           177   \n",
              "47650      140640           vilnca               158          2885   \n",
              "47651      140644  abwmhmd42014503                21          3471   \n",
              "\n",
              "                                                    text  retweets  likes  \\\n",
              "0      الحج المبرور ليس له جزاء إلا الجنة#السيرة_كأنك...     222.0    0.0   \n",
              "1        رئيس ساحل العاج يرفض البروتوكول السعودي في الحج     161.0    0.0   \n",
              "2      ما تقوم به بلادنا في خدمة حجاج بيت الله الحرام...     692.0    0.0   \n",
              "3      شكرا_قيادتنا_على_نجاح_الحج الحمدلله حتى يبلغ ا...    2681.0    0.0   \n",
              "4      الاتحاد الأوروبي: السعودية نجحت بإدارة موسم #ا...      63.0    0.0   \n",
              "...                                                  ...       ...    ...   \n",
              "47647  @MtjrRyf @n_2ad ادخل على وازرة الحج واحجز عالذ...       0.0    0.0   \n",
              "47648  اليوم 8 ذي الحجة هو يوم التروية حيث تبدأ اول م...      21.0  231.0   \n",
              "47649  @kamalsinai كتب الله لنا ولكم الحج والعمرة مرة...       0.0    1.0   \n",
              "47650                            يازييييين مشاعر الحج 🥹🤍       0.0    1.0   \n",
              "47651  @marsdnews24 الله يقويهم على المفسدين اللي فتر...       0.0    0.0   \n",
              "\n",
              "                                               norm_text auto_lable  \\\n",
              "0      الحج المبرور ليس له جزاء الا الجنه السيره كانك...   positive   \n",
              "1        رئيس ساحل العاج يرفض البروتوكول السعودى فى الحج    neutral   \n",
              "2      ما تقوم به بلادنا فى خدمه حجاج بيت الله الحرام...   positive   \n",
              "3      شكرا قيادتنا على نجاح الحج الحمدلله حتى يبلغ ا...   positive   \n",
              "4      الاتحاد الاوروبى السعوديه نجحت باداره موسم الح...    neutral   \n",
              "...                                                  ...        ...   \n",
              "47647                ادخل على وازره الحج واحجز عالذاكرين    neutral   \n",
              "47648  اليوم ذى الحجه هو يوم الترويه حيث تبدا اول منا...   positive   \n",
              "47649         كتب الله لنا ولكم الحج والعمره مره بعد مره   positive   \n",
              "47650                                  يازيين مشاعر الحج   positive   \n",
              "47651  الله يقويهم على المفسدين اللى فتره الحج بالنسب...   positive   \n",
              "\n",
              "         camel_labe  \n",
              "0       ['neutral']  \n",
              "1       ['neutral']  \n",
              "2      ['positive']  \n",
              "3      ['positive']  \n",
              "4      ['positive']  \n",
              "...             ...  \n",
              "47647   ['neutral']  \n",
              "47648  ['positive']  \n",
              "47649  ['positive']  \n",
              "47650  ['positive']  \n",
              "47651  ['positive']  \n",
              "\n",
              "[47652 rows x 10 columns]"
            ],
            "text/html": [
              "\n",
              "  <div id=\"df-259035d1-058e-4c62-a6cb-8210a9833737\">\n",
              "    <div class=\"colab-df-container\">\n",
              "      <div>\n",
              "<style scoped>\n",
              "    .dataframe tbody tr th:only-of-type {\n",
              "        vertical-align: middle;\n",
              "    }\n",
              "\n",
              "    .dataframe tbody tr th {\n",
              "        vertical-align: top;\n",
              "    }\n",
              "\n",
              "    .dataframe thead th {\n",
              "        text-align: right;\n",
              "    }\n",
              "</style>\n",
              "<table border=\"1\" class=\"dataframe\">\n",
              "  <thead>\n",
              "    <tr style=\"text-align: right;\">\n",
              "      <th></th>\n",
              "      <th>Unnamed: 0</th>\n",
              "      <th>username</th>\n",
              "      <th>author_followers</th>\n",
              "      <th>author_tweets</th>\n",
              "      <th>text</th>\n",
              "      <th>retweets</th>\n",
              "      <th>likes</th>\n",
              "      <th>norm_text</th>\n",
              "      <th>auto_lable</th>\n",
              "      <th>camel_labe</th>\n",
              "    </tr>\n",
              "  </thead>\n",
              "  <tbody>\n",
              "    <tr>\n",
              "      <th>0</th>\n",
              "      <td>0</td>\n",
              "      <td>raumunz</td>\n",
              "      <td>3070</td>\n",
              "      <td>1054648</td>\n",
              "      <td>الحج المبرور ليس له جزاء إلا الجنة#السيرة_كأنك...</td>\n",
              "      <td>222.0</td>\n",
              "      <td>0.0</td>\n",
              "      <td>الحج المبرور ليس له جزاء الا الجنه السيره كانك...</td>\n",
              "      <td>positive</td>\n",
              "      <td>['neutral']</td>\n",
              "    </tr>\n",
              "    <tr>\n",
              "      <th>1</th>\n",
              "      <td>1</td>\n",
              "      <td>hesheey</td>\n",
              "      <td>713</td>\n",
              "      <td>19244</td>\n",
              "      <td>رئيس ساحل العاج يرفض البروتوكول السعودي في الحج</td>\n",
              "      <td>161.0</td>\n",
              "      <td>0.0</td>\n",
              "      <td>رئيس ساحل العاج يرفض البروتوكول السعودى فى الحج</td>\n",
              "      <td>neutral</td>\n",
              "      <td>['neutral']</td>\n",
              "    </tr>\n",
              "    <tr>\n",
              "      <th>2</th>\n",
              "      <td>2</td>\n",
              "      <td>ealam_itti</td>\n",
              "      <td>22300</td>\n",
              "      <td>22243</td>\n",
              "      <td>ما تقوم به بلادنا في خدمة حجاج بيت الله الحرام...</td>\n",
              "      <td>692.0</td>\n",
              "      <td>0.0</td>\n",
              "      <td>ما تقوم به بلادنا فى خدمه حجاج بيت الله الحرام...</td>\n",
              "      <td>positive</td>\n",
              "      <td>['positive']</td>\n",
              "    </tr>\n",
              "    <tr>\n",
              "      <th>3</th>\n",
              "      <td>3</td>\n",
              "      <td>3krstzzm</td>\n",
              "      <td>54</td>\n",
              "      <td>7054</td>\n",
              "      <td>شكرا_قيادتنا_على_نجاح_الحج الحمدلله حتى يبلغ ا...</td>\n",
              "      <td>2681.0</td>\n",
              "      <td>0.0</td>\n",
              "      <td>شكرا قيادتنا على نجاح الحج الحمدلله حتى يبلغ ا...</td>\n",
              "      <td>positive</td>\n",
              "      <td>['positive']</td>\n",
              "    </tr>\n",
              "    <tr>\n",
              "      <th>4</th>\n",
              "      <td>4</td>\n",
              "      <td>othman111mo</td>\n",
              "      <td>3563</td>\n",
              "      <td>146035</td>\n",
              "      <td>الاتحاد الأوروبي: السعودية نجحت بإدارة موسم #ا...</td>\n",
              "      <td>63.0</td>\n",
              "      <td>0.0</td>\n",
              "      <td>الاتحاد الاوروبى السعوديه نجحت باداره موسم الح...</td>\n",
              "      <td>neutral</td>\n",
              "      <td>['positive']</td>\n",
              "    </tr>\n",
              "    <tr>\n",
              "      <th>...</th>\n",
              "      <td>...</td>\n",
              "      <td>...</td>\n",
              "      <td>...</td>\n",
              "      <td>...</td>\n",
              "      <td>...</td>\n",
              "      <td>...</td>\n",
              "      <td>...</td>\n",
              "      <td>...</td>\n",
              "      <td>...</td>\n",
              "      <td>...</td>\n",
              "    </tr>\n",
              "    <tr>\n",
              "      <th>47647</th>\n",
              "      <td>140631</td>\n",
              "      <td>cxi_52</td>\n",
              "      <td>7</td>\n",
              "      <td>128</td>\n",
              "      <td>@MtjrRyf @n_2ad ادخل على وازرة الحج واحجز عالذ...</td>\n",
              "      <td>0.0</td>\n",
              "      <td>0.0</td>\n",
              "      <td>ادخل على وازره الحج واحجز عالذاكرين</td>\n",
              "      <td>neutral</td>\n",
              "      <td>['neutral']</td>\n",
              "    </tr>\n",
              "    <tr>\n",
              "      <th>47648</th>\n",
              "      <td>140632</td>\n",
              "      <td>coachshreif3ouf</td>\n",
              "      <td>42009</td>\n",
              "      <td>114342</td>\n",
              "      <td>اليوم 8 ذي الحجة هو يوم التروية حيث تبدأ اول م...</td>\n",
              "      <td>21.0</td>\n",
              "      <td>231.0</td>\n",
              "      <td>اليوم ذى الحجه هو يوم الترويه حيث تبدا اول منا...</td>\n",
              "      <td>positive</td>\n",
              "      <td>['positive']</td>\n",
              "    </tr>\n",
              "    <tr>\n",
              "      <th>47649</th>\n",
              "      <td>140638</td>\n",
              "      <td>LAljmazy</td>\n",
              "      <td>15</td>\n",
              "      <td>177</td>\n",
              "      <td>@kamalsinai كتب الله لنا ولكم الحج والعمرة مرة...</td>\n",
              "      <td>0.0</td>\n",
              "      <td>1.0</td>\n",
              "      <td>كتب الله لنا ولكم الحج والعمره مره بعد مره</td>\n",
              "      <td>positive</td>\n",
              "      <td>['positive']</td>\n",
              "    </tr>\n",
              "    <tr>\n",
              "      <th>47650</th>\n",
              "      <td>140640</td>\n",
              "      <td>vilnca</td>\n",
              "      <td>158</td>\n",
              "      <td>2885</td>\n",
              "      <td>يازييييين مشاعر الحج 🥹🤍</td>\n",
              "      <td>0.0</td>\n",
              "      <td>1.0</td>\n",
              "      <td>يازيين مشاعر الحج</td>\n",
              "      <td>positive</td>\n",
              "      <td>['positive']</td>\n",
              "    </tr>\n",
              "    <tr>\n",
              "      <th>47651</th>\n",
              "      <td>140644</td>\n",
              "      <td>abwmhmd42014503</td>\n",
              "      <td>21</td>\n",
              "      <td>3471</td>\n",
              "      <td>@marsdnews24 الله يقويهم على المفسدين اللي فتر...</td>\n",
              "      <td>0.0</td>\n",
              "      <td>0.0</td>\n",
              "      <td>الله يقويهم على المفسدين اللى فتره الحج بالنسب...</td>\n",
              "      <td>positive</td>\n",
              "      <td>['positive']</td>\n",
              "    </tr>\n",
              "  </tbody>\n",
              "</table>\n",
              "<p>47652 rows × 10 columns</p>\n",
              "</div>\n",
              "      <button class=\"colab-df-convert\" onclick=\"convertToInteractive('df-259035d1-058e-4c62-a6cb-8210a9833737')\"\n",
              "              title=\"Convert this dataframe to an interactive table.\"\n",
              "              style=\"display:none;\">\n",
              "        \n",
              "  <svg xmlns=\"http://www.w3.org/2000/svg\" height=\"24px\"viewBox=\"0 0 24 24\"\n",
              "       width=\"24px\">\n",
              "    <path d=\"M0 0h24v24H0V0z\" fill=\"none\"/>\n",
              "    <path d=\"M18.56 5.44l.94 2.06.94-2.06 2.06-.94-2.06-.94-.94-2.06-.94 2.06-2.06.94zm-11 1L8.5 8.5l.94-2.06 2.06-.94-2.06-.94L8.5 2.5l-.94 2.06-2.06.94zm10 10l.94 2.06.94-2.06 2.06-.94-2.06-.94-.94-2.06-.94 2.06-2.06.94z\"/><path d=\"M17.41 7.96l-1.37-1.37c-.4-.4-.92-.59-1.43-.59-.52 0-1.04.2-1.43.59L10.3 9.45l-7.72 7.72c-.78.78-.78 2.05 0 2.83L4 21.41c.39.39.9.59 1.41.59.51 0 1.02-.2 1.41-.59l7.78-7.78 2.81-2.81c.8-.78.8-2.07 0-2.86zM5.41 20L4 18.59l7.72-7.72 1.47 1.35L5.41 20z\"/>\n",
              "  </svg>\n",
              "      </button>\n",
              "      \n",
              "  <style>\n",
              "    .colab-df-container {\n",
              "      display:flex;\n",
              "      flex-wrap:wrap;\n",
              "      gap: 12px;\n",
              "    }\n",
              "\n",
              "    .colab-df-convert {\n",
              "      background-color: #E8F0FE;\n",
              "      border: none;\n",
              "      border-radius: 50%;\n",
              "      cursor: pointer;\n",
              "      display: none;\n",
              "      fill: #1967D2;\n",
              "      height: 32px;\n",
              "      padding: 0 0 0 0;\n",
              "      width: 32px;\n",
              "    }\n",
              "\n",
              "    .colab-df-convert:hover {\n",
              "      background-color: #E2EBFA;\n",
              "      box-shadow: 0px 1px 2px rgba(60, 64, 67, 0.3), 0px 1px 3px 1px rgba(60, 64, 67, 0.15);\n",
              "      fill: #174EA6;\n",
              "    }\n",
              "\n",
              "    [theme=dark] .colab-df-convert {\n",
              "      background-color: #3B4455;\n",
              "      fill: #D2E3FC;\n",
              "    }\n",
              "\n",
              "    [theme=dark] .colab-df-convert:hover {\n",
              "      background-color: #434B5C;\n",
              "      box-shadow: 0px 1px 3px 1px rgba(0, 0, 0, 0.15);\n",
              "      filter: drop-shadow(0px 1px 2px rgba(0, 0, 0, 0.3));\n",
              "      fill: #FFFFFF;\n",
              "    }\n",
              "  </style>\n",
              "\n",
              "      <script>\n",
              "        const buttonEl =\n",
              "          document.querySelector('#df-259035d1-058e-4c62-a6cb-8210a9833737 button.colab-df-convert');\n",
              "        buttonEl.style.display =\n",
              "          google.colab.kernel.accessAllowed ? 'block' : 'none';\n",
              "\n",
              "        async function convertToInteractive(key) {\n",
              "          const element = document.querySelector('#df-259035d1-058e-4c62-a6cb-8210a9833737');\n",
              "          const dataTable =\n",
              "            await google.colab.kernel.invokeFunction('convertToInteractive',\n",
              "                                                     [key], {});\n",
              "          if (!dataTable) return;\n",
              "\n",
              "          const docLinkHtml = 'Like what you see? Visit the ' +\n",
              "            '<a target=\"_blank\" href=https://colab.research.google.com/notebooks/data_table.ipynb>data table notebook</a>'\n",
              "            + ' to learn more about interactive tables.';\n",
              "          element.innerHTML = '';\n",
              "          dataTable['output_type'] = 'display_data';\n",
              "          await google.colab.output.renderOutput(dataTable, element);\n",
              "          const docLink = document.createElement('div');\n",
              "          docLink.innerHTML = docLinkHtml;\n",
              "          element.appendChild(docLink);\n",
              "        }\n",
              "      </script>\n",
              "    </div>\n",
              "  </div>\n",
              "  "
            ]
          },
          "metadata": {},
          "execution_count": 265
        }
      ]
    },
    {
      "cell_type": "code",
      "source": [
        "all_data['camel_labe'][0]"
      ],
      "metadata": {
        "colab": {
          "base_uri": "https://localhost:8080/",
          "height": 36
        },
        "id": "QoIM94AQLc-Z",
        "outputId": "6fac99c3-f994-41f4-f1f7-2e72ba164a37"
      },
      "execution_count": null,
      "outputs": [
        {
          "output_type": "execute_result",
          "data": {
            "text/plain": [
              "\"['neutral']\""
            ],
            "application/vnd.google.colaboratory.intrinsic+json": {
              "type": "string"
            }
          },
          "metadata": {},
          "execution_count": 274
        }
      ]
    },
    {
      "cell_type": "code",
      "source": [
        "def clean_(text):\n",
        "  t=text[2:]\n",
        "  r=t[:len(t)-2]\n",
        "  return r"
      ],
      "metadata": {
        "id": "knUlQRN0NAtT"
      },
      "execution_count": null,
      "outputs": []
    },
    {
      "cell_type": "code",
      "source": [
        "clean_(all_data['camel_labe'][0])"
      ],
      "metadata": {
        "colab": {
          "base_uri": "https://localhost:8080/",
          "height": 36
        },
        "id": "aQuqe1j3NgrQ",
        "outputId": "d4e27810-e321-4b30-9783-f375387113db"
      },
      "execution_count": null,
      "outputs": [
        {
          "output_type": "execute_result",
          "data": {
            "text/plain": [
              "'neutral'"
            ],
            "application/vnd.google.colaboratory.intrinsic+json": {
              "type": "string"
            }
          },
          "metadata": {},
          "execution_count": 276
        }
      ]
    },
    {
      "cell_type": "code",
      "source": [
        "all_data['cleaned_camel'] = all_data['camel_labe'].apply(clean_)"
      ],
      "metadata": {
        "id": "OiK0LIQEOBoz"
      },
      "execution_count": null,
      "outputs": []
    },
    {
      "cell_type": "code",
      "source": [
        "all_data.loc[all_data['cleaned_camel']=='positive',:]"
      ],
      "metadata": {
        "colab": {
          "base_uri": "https://localhost:8080/",
          "height": 1000
        },
        "id": "te-3_FmoOTSD",
        "outputId": "97dac131-313b-4587-9e75-e9b9fdf847a4"
      },
      "execution_count": null,
      "outputs": [
        {
          "output_type": "execute_result",
          "data": {
            "text/plain": [
              "       Unnamed: 0         username  author_followers author_tweets  \\\n",
              "2               2       ealam_itti             22300         22243   \n",
              "3               3         3krstzzm                54          7054   \n",
              "4               4      othman111mo              3563        146035   \n",
              "6               6         rafa_XX8               522          2135   \n",
              "7               7  SaadFalbuainain              2771          9986   \n",
              "...           ...              ...               ...           ...   \n",
              "47646      140628     yhya_alameer             11231         25807   \n",
              "47648      140632  coachshreif3ouf             42009        114342   \n",
              "47649      140638         LAljmazy                15           177   \n",
              "47650      140640           vilnca               158          2885   \n",
              "47651      140644  abwmhmd42014503                21          3471   \n",
              "\n",
              "                                                    text  retweets  likes  \\\n",
              "2      ما تقوم به بلادنا في خدمة حجاج بيت الله الحرام...     692.0    0.0   \n",
              "3      شكرا_قيادتنا_على_نجاح_الحج الحمدلله حتى يبلغ ا...    2681.0    0.0   \n",
              "4      الاتحاد الأوروبي: السعودية نجحت بإدارة موسم #ا...      63.0    0.0   \n",
              "6      أحب أسمع قصص الحج من كبار السن أو من الأجيال ا...       1.0    2.0   \n",
              "7      نجاح منقطع النظير، يبعث على الفخر والاعتزاز، ب...       5.0    0.0   \n",
              "...                                                  ...       ...    ...   \n",
              "47646       @Ali202223865001 مبروك الحج تقبل الله طاعتكم       0.0    1.0   \n",
              "47648  اليوم 8 ذي الحجة هو يوم التروية حيث تبدأ اول م...      21.0  231.0   \n",
              "47649  @kamalsinai كتب الله لنا ولكم الحج والعمرة مرة...       0.0    1.0   \n",
              "47650                            يازييييين مشاعر الحج 🥹🤍       0.0    1.0   \n",
              "47651  @marsdnews24 الله يقويهم على المفسدين اللي فتر...       0.0    0.0   \n",
              "\n",
              "                                               norm_text auto_lable  \\\n",
              "2      ما تقوم به بلادنا فى خدمه حجاج بيت الله الحرام...   positive   \n",
              "3      شكرا قيادتنا على نجاح الحج الحمدلله حتى يبلغ ا...   positive   \n",
              "4      الاتحاد الاوروبى السعوديه نجحت باداره موسم الح...    neutral   \n",
              "6      احب اسمع قصص الحج من كبار السن او من الاجيال ا...   positive   \n",
              "7      نجاح منقطع النظير يبعث على الفخر والاعتزاز بكل...   positive   \n",
              "...                                                  ...        ...   \n",
              "47646                        مبروك الحج تقبل الله طاعتكم   positive   \n",
              "47648  اليوم ذى الحجه هو يوم الترويه حيث تبدا اول منا...   positive   \n",
              "47649         كتب الله لنا ولكم الحج والعمره مره بعد مره   positive   \n",
              "47650                                  يازيين مشاعر الحج   positive   \n",
              "47651  الله يقويهم على المفسدين اللى فتره الحج بالنسب...   positive   \n",
              "\n",
              "         camel_labe cleaned_camel  \n",
              "2      ['positive']      positive  \n",
              "3      ['positive']      positive  \n",
              "4      ['positive']      positive  \n",
              "6      ['positive']      positive  \n",
              "7      ['positive']      positive  \n",
              "...             ...           ...  \n",
              "47646  ['positive']      positive  \n",
              "47648  ['positive']      positive  \n",
              "47649  ['positive']      positive  \n",
              "47650  ['positive']      positive  \n",
              "47651  ['positive']      positive  \n",
              "\n",
              "[24048 rows x 11 columns]"
            ],
            "text/html": [
              "\n",
              "  <div id=\"df-c278ca87-2bb7-407c-8226-97bb569cbb3c\">\n",
              "    <div class=\"colab-df-container\">\n",
              "      <div>\n",
              "<style scoped>\n",
              "    .dataframe tbody tr th:only-of-type {\n",
              "        vertical-align: middle;\n",
              "    }\n",
              "\n",
              "    .dataframe tbody tr th {\n",
              "        vertical-align: top;\n",
              "    }\n",
              "\n",
              "    .dataframe thead th {\n",
              "        text-align: right;\n",
              "    }\n",
              "</style>\n",
              "<table border=\"1\" class=\"dataframe\">\n",
              "  <thead>\n",
              "    <tr style=\"text-align: right;\">\n",
              "      <th></th>\n",
              "      <th>Unnamed: 0</th>\n",
              "      <th>username</th>\n",
              "      <th>author_followers</th>\n",
              "      <th>author_tweets</th>\n",
              "      <th>text</th>\n",
              "      <th>retweets</th>\n",
              "      <th>likes</th>\n",
              "      <th>norm_text</th>\n",
              "      <th>auto_lable</th>\n",
              "      <th>camel_labe</th>\n",
              "      <th>cleaned_camel</th>\n",
              "    </tr>\n",
              "  </thead>\n",
              "  <tbody>\n",
              "    <tr>\n",
              "      <th>2</th>\n",
              "      <td>2</td>\n",
              "      <td>ealam_itti</td>\n",
              "      <td>22300</td>\n",
              "      <td>22243</td>\n",
              "      <td>ما تقوم به بلادنا في خدمة حجاج بيت الله الحرام...</td>\n",
              "      <td>692.0</td>\n",
              "      <td>0.0</td>\n",
              "      <td>ما تقوم به بلادنا فى خدمه حجاج بيت الله الحرام...</td>\n",
              "      <td>positive</td>\n",
              "      <td>['positive']</td>\n",
              "      <td>positive</td>\n",
              "    </tr>\n",
              "    <tr>\n",
              "      <th>3</th>\n",
              "      <td>3</td>\n",
              "      <td>3krstzzm</td>\n",
              "      <td>54</td>\n",
              "      <td>7054</td>\n",
              "      <td>شكرا_قيادتنا_على_نجاح_الحج الحمدلله حتى يبلغ ا...</td>\n",
              "      <td>2681.0</td>\n",
              "      <td>0.0</td>\n",
              "      <td>شكرا قيادتنا على نجاح الحج الحمدلله حتى يبلغ ا...</td>\n",
              "      <td>positive</td>\n",
              "      <td>['positive']</td>\n",
              "      <td>positive</td>\n",
              "    </tr>\n",
              "    <tr>\n",
              "      <th>4</th>\n",
              "      <td>4</td>\n",
              "      <td>othman111mo</td>\n",
              "      <td>3563</td>\n",
              "      <td>146035</td>\n",
              "      <td>الاتحاد الأوروبي: السعودية نجحت بإدارة موسم #ا...</td>\n",
              "      <td>63.0</td>\n",
              "      <td>0.0</td>\n",
              "      <td>الاتحاد الاوروبى السعوديه نجحت باداره موسم الح...</td>\n",
              "      <td>neutral</td>\n",
              "      <td>['positive']</td>\n",
              "      <td>positive</td>\n",
              "    </tr>\n",
              "    <tr>\n",
              "      <th>6</th>\n",
              "      <td>6</td>\n",
              "      <td>rafa_XX8</td>\n",
              "      <td>522</td>\n",
              "      <td>2135</td>\n",
              "      <td>أحب أسمع قصص الحج من كبار السن أو من الأجيال ا...</td>\n",
              "      <td>1.0</td>\n",
              "      <td>2.0</td>\n",
              "      <td>احب اسمع قصص الحج من كبار السن او من الاجيال ا...</td>\n",
              "      <td>positive</td>\n",
              "      <td>['positive']</td>\n",
              "      <td>positive</td>\n",
              "    </tr>\n",
              "    <tr>\n",
              "      <th>7</th>\n",
              "      <td>7</td>\n",
              "      <td>SaadFalbuainain</td>\n",
              "      <td>2771</td>\n",
              "      <td>9986</td>\n",
              "      <td>نجاح منقطع النظير، يبعث على الفخر والاعتزاز، ب...</td>\n",
              "      <td>5.0</td>\n",
              "      <td>0.0</td>\n",
              "      <td>نجاح منقطع النظير يبعث على الفخر والاعتزاز بكل...</td>\n",
              "      <td>positive</td>\n",
              "      <td>['positive']</td>\n",
              "      <td>positive</td>\n",
              "    </tr>\n",
              "    <tr>\n",
              "      <th>...</th>\n",
              "      <td>...</td>\n",
              "      <td>...</td>\n",
              "      <td>...</td>\n",
              "      <td>...</td>\n",
              "      <td>...</td>\n",
              "      <td>...</td>\n",
              "      <td>...</td>\n",
              "      <td>...</td>\n",
              "      <td>...</td>\n",
              "      <td>...</td>\n",
              "      <td>...</td>\n",
              "    </tr>\n",
              "    <tr>\n",
              "      <th>47646</th>\n",
              "      <td>140628</td>\n",
              "      <td>yhya_alameer</td>\n",
              "      <td>11231</td>\n",
              "      <td>25807</td>\n",
              "      <td>@Ali202223865001 مبروك الحج تقبل الله طاعتكم</td>\n",
              "      <td>0.0</td>\n",
              "      <td>1.0</td>\n",
              "      <td>مبروك الحج تقبل الله طاعتكم</td>\n",
              "      <td>positive</td>\n",
              "      <td>['positive']</td>\n",
              "      <td>positive</td>\n",
              "    </tr>\n",
              "    <tr>\n",
              "      <th>47648</th>\n",
              "      <td>140632</td>\n",
              "      <td>coachshreif3ouf</td>\n",
              "      <td>42009</td>\n",
              "      <td>114342</td>\n",
              "      <td>اليوم 8 ذي الحجة هو يوم التروية حيث تبدأ اول م...</td>\n",
              "      <td>21.0</td>\n",
              "      <td>231.0</td>\n",
              "      <td>اليوم ذى الحجه هو يوم الترويه حيث تبدا اول منا...</td>\n",
              "      <td>positive</td>\n",
              "      <td>['positive']</td>\n",
              "      <td>positive</td>\n",
              "    </tr>\n",
              "    <tr>\n",
              "      <th>47649</th>\n",
              "      <td>140638</td>\n",
              "      <td>LAljmazy</td>\n",
              "      <td>15</td>\n",
              "      <td>177</td>\n",
              "      <td>@kamalsinai كتب الله لنا ولكم الحج والعمرة مرة...</td>\n",
              "      <td>0.0</td>\n",
              "      <td>1.0</td>\n",
              "      <td>كتب الله لنا ولكم الحج والعمره مره بعد مره</td>\n",
              "      <td>positive</td>\n",
              "      <td>['positive']</td>\n",
              "      <td>positive</td>\n",
              "    </tr>\n",
              "    <tr>\n",
              "      <th>47650</th>\n",
              "      <td>140640</td>\n",
              "      <td>vilnca</td>\n",
              "      <td>158</td>\n",
              "      <td>2885</td>\n",
              "      <td>يازييييين مشاعر الحج 🥹🤍</td>\n",
              "      <td>0.0</td>\n",
              "      <td>1.0</td>\n",
              "      <td>يازيين مشاعر الحج</td>\n",
              "      <td>positive</td>\n",
              "      <td>['positive']</td>\n",
              "      <td>positive</td>\n",
              "    </tr>\n",
              "    <tr>\n",
              "      <th>47651</th>\n",
              "      <td>140644</td>\n",
              "      <td>abwmhmd42014503</td>\n",
              "      <td>21</td>\n",
              "      <td>3471</td>\n",
              "      <td>@marsdnews24 الله يقويهم على المفسدين اللي فتر...</td>\n",
              "      <td>0.0</td>\n",
              "      <td>0.0</td>\n",
              "      <td>الله يقويهم على المفسدين اللى فتره الحج بالنسب...</td>\n",
              "      <td>positive</td>\n",
              "      <td>['positive']</td>\n",
              "      <td>positive</td>\n",
              "    </tr>\n",
              "  </tbody>\n",
              "</table>\n",
              "<p>24048 rows × 11 columns</p>\n",
              "</div>\n",
              "      <button class=\"colab-df-convert\" onclick=\"convertToInteractive('df-c278ca87-2bb7-407c-8226-97bb569cbb3c')\"\n",
              "              title=\"Convert this dataframe to an interactive table.\"\n",
              "              style=\"display:none;\">\n",
              "        \n",
              "  <svg xmlns=\"http://www.w3.org/2000/svg\" height=\"24px\"viewBox=\"0 0 24 24\"\n",
              "       width=\"24px\">\n",
              "    <path d=\"M0 0h24v24H0V0z\" fill=\"none\"/>\n",
              "    <path d=\"M18.56 5.44l.94 2.06.94-2.06 2.06-.94-2.06-.94-.94-2.06-.94 2.06-2.06.94zm-11 1L8.5 8.5l.94-2.06 2.06-.94-2.06-.94L8.5 2.5l-.94 2.06-2.06.94zm10 10l.94 2.06.94-2.06 2.06-.94-2.06-.94-.94-2.06-.94 2.06-2.06.94z\"/><path d=\"M17.41 7.96l-1.37-1.37c-.4-.4-.92-.59-1.43-.59-.52 0-1.04.2-1.43.59L10.3 9.45l-7.72 7.72c-.78.78-.78 2.05 0 2.83L4 21.41c.39.39.9.59 1.41.59.51 0 1.02-.2 1.41-.59l7.78-7.78 2.81-2.81c.8-.78.8-2.07 0-2.86zM5.41 20L4 18.59l7.72-7.72 1.47 1.35L5.41 20z\"/>\n",
              "  </svg>\n",
              "      </button>\n",
              "      \n",
              "  <style>\n",
              "    .colab-df-container {\n",
              "      display:flex;\n",
              "      flex-wrap:wrap;\n",
              "      gap: 12px;\n",
              "    }\n",
              "\n",
              "    .colab-df-convert {\n",
              "      background-color: #E8F0FE;\n",
              "      border: none;\n",
              "      border-radius: 50%;\n",
              "      cursor: pointer;\n",
              "      display: none;\n",
              "      fill: #1967D2;\n",
              "      height: 32px;\n",
              "      padding: 0 0 0 0;\n",
              "      width: 32px;\n",
              "    }\n",
              "\n",
              "    .colab-df-convert:hover {\n",
              "      background-color: #E2EBFA;\n",
              "      box-shadow: 0px 1px 2px rgba(60, 64, 67, 0.3), 0px 1px 3px 1px rgba(60, 64, 67, 0.15);\n",
              "      fill: #174EA6;\n",
              "    }\n",
              "\n",
              "    [theme=dark] .colab-df-convert {\n",
              "      background-color: #3B4455;\n",
              "      fill: #D2E3FC;\n",
              "    }\n",
              "\n",
              "    [theme=dark] .colab-df-convert:hover {\n",
              "      background-color: #434B5C;\n",
              "      box-shadow: 0px 1px 3px 1px rgba(0, 0, 0, 0.15);\n",
              "      filter: drop-shadow(0px 1px 2px rgba(0, 0, 0, 0.3));\n",
              "      fill: #FFFFFF;\n",
              "    }\n",
              "  </style>\n",
              "\n",
              "      <script>\n",
              "        const buttonEl =\n",
              "          document.querySelector('#df-c278ca87-2bb7-407c-8226-97bb569cbb3c button.colab-df-convert');\n",
              "        buttonEl.style.display =\n",
              "          google.colab.kernel.accessAllowed ? 'block' : 'none';\n",
              "\n",
              "        async function convertToInteractive(key) {\n",
              "          const element = document.querySelector('#df-c278ca87-2bb7-407c-8226-97bb569cbb3c');\n",
              "          const dataTable =\n",
              "            await google.colab.kernel.invokeFunction('convertToInteractive',\n",
              "                                                     [key], {});\n",
              "          if (!dataTable) return;\n",
              "\n",
              "          const docLinkHtml = 'Like what you see? Visit the ' +\n",
              "            '<a target=\"_blank\" href=https://colab.research.google.com/notebooks/data_table.ipynb>data table notebook</a>'\n",
              "            + ' to learn more about interactive tables.';\n",
              "          element.innerHTML = '';\n",
              "          dataTable['output_type'] = 'display_data';\n",
              "          await google.colab.output.renderOutput(dataTable, element);\n",
              "          const docLink = document.createElement('div');\n",
              "          docLink.innerHTML = docLinkHtml;\n",
              "          element.appendChild(docLink);\n",
              "        }\n",
              "      </script>\n",
              "    </div>\n",
              "  </div>\n",
              "  "
            ]
          },
          "metadata": {},
          "execution_count": 279
        }
      ]
    },
    {
      "cell_type": "code",
      "source": [
        "all_data.loc[all_data['cleaned_camel']=='negative',:]"
      ],
      "metadata": {
        "colab": {
          "base_uri": "https://localhost:8080/",
          "height": 1000
        },
        "id": "mZVDQ1_gLc14",
        "outputId": "06287b80-c1d9-496b-a3e8-6d536ad7cec8"
      },
      "execution_count": null,
      "outputs": [
        {
          "output_type": "execute_result",
          "data": {
            "text/plain": [
              "       Unnamed: 0       username  author_followers author_tweets  \\\n",
              "23             23   aziz87_abdul                21          1702   \n",
              "27             27      majedd981               209         35597   \n",
              "30             30    aljassem_89             10601         23517   \n",
              "31             31     alqaiser95              2016         60417   \n",
              "36             36  alfejraljded2               915         27582   \n",
              "...           ...            ...               ...           ...   \n",
              "47627      140544    rorooo11123               324         24885   \n",
              "47628      140545    wasekballah              8327         43562   \n",
              "47631      140557    sss08423144                36          4608   \n",
              "47635      140571  rashed_fahad9              1134         15646   \n",
              "47640      140601        iswi2fi               107         18160   \n",
              "\n",
              "                                                    text  retweets  likes  \\\n",
              "23     طبعا بالنسبة للاكل .. هذي لها عقود والمخالفات ...       0.0    0.0   \n",
              "27     ما نكبنا غير التهريب و #تاشيرة_زائر  \\nيا ليت ...      16.0    0.0   \n",
              "30     مع الأسف من يومين كانت هناك حفلة لفنانة سعودية...      14.0    0.0   \n",
              "31     مره بالعمر و المقتدر مافي اشكاليه حسب الاستطاع...       1.0    0.0   \n",
              "36     : اقالة فريد عمادي باتت مطلب شعبي كل سنه الناس...     132.0    0.0   \n",
              "...                                                  ...       ...    ...   \n",
              "47627  اليوم شفت تشديد الامن والتفتيش اللي صاير عند م...       0.0    0.0   \n",
              "47628  ما يفعله ابن سلمان فى مناسك الحج يؤكد الحاجة إ...       0.0    2.0   \n",
              "47631  @Yaser46578913 @AJELNEWS24 غير صحيح بالعكس بيق...       1.0    0.0   \n",
              "47635  يقول ناصر خسرو في رحلته إلى الحج ذلك حين مرَّ ...       0.0    0.0   \n",
              "47640  @albadr1394 الحج الاكبر \\n يوم النحر \\n #عيد_ا...       0.0    0.0   \n",
              "\n",
              "                                               norm_text auto_lable  \\\n",
              "23     طبعا بالنسبه للاكل هذى لها عقود والمخالفات يتح...   negative   \n",
              "27     ما نكبنا غير التهريب تاشيره زائر يا ليت السنه ...   negative   \n",
              "30     مع الاسف من يومين كانت هناك حفله لفنانه سعوديه...    neutral   \n",
              "31     مره بالعمر المقتدر مافى اشكاليه حسب الاستطاعه ...   negative   \n",
              "36     اقاله فريد عمادى باتت مطلب شعبى كل سنه الناس ي...   negative   \n",
              "...                                                  ...        ...   \n",
              "47627  اليوم شفت تشديد الامن والتفتيش اللى صاير عند م...   negative   \n",
              "47628  ما يفعله ابن سلمان فى مناسك الحج يكد الحاجه ال...   negative   \n",
              "47631  غير صحيح بالعكس بيقل العرض وبيرتفع العقار وخل ...   negative   \n",
              "47635  يقول ناصر خسرو فى رحلته الى الحج ذلك حين مر با...   negative   \n",
              "47640                   الحج الاكبر يوم النحر عيد الاضحى   negative   \n",
              "\n",
              "         camel_labe cleaned_camel  \n",
              "23     ['negative']      negative  \n",
              "27     ['negative']      negative  \n",
              "30     ['negative']      negative  \n",
              "31     ['negative']      negative  \n",
              "36     ['negative']      negative  \n",
              "...             ...           ...  \n",
              "47627  ['negative']      negative  \n",
              "47628  ['negative']      negative  \n",
              "47631  ['negative']      negative  \n",
              "47635  ['negative']      negative  \n",
              "47640  ['negative']      negative  \n",
              "\n",
              "[15811 rows x 11 columns]"
            ],
            "text/html": [
              "\n",
              "  <div id=\"df-1dfa2c65-047a-475c-b9b9-d06c9f412877\">\n",
              "    <div class=\"colab-df-container\">\n",
              "      <div>\n",
              "<style scoped>\n",
              "    .dataframe tbody tr th:only-of-type {\n",
              "        vertical-align: middle;\n",
              "    }\n",
              "\n",
              "    .dataframe tbody tr th {\n",
              "        vertical-align: top;\n",
              "    }\n",
              "\n",
              "    .dataframe thead th {\n",
              "        text-align: right;\n",
              "    }\n",
              "</style>\n",
              "<table border=\"1\" class=\"dataframe\">\n",
              "  <thead>\n",
              "    <tr style=\"text-align: right;\">\n",
              "      <th></th>\n",
              "      <th>Unnamed: 0</th>\n",
              "      <th>username</th>\n",
              "      <th>author_followers</th>\n",
              "      <th>author_tweets</th>\n",
              "      <th>text</th>\n",
              "      <th>retweets</th>\n",
              "      <th>likes</th>\n",
              "      <th>norm_text</th>\n",
              "      <th>auto_lable</th>\n",
              "      <th>camel_labe</th>\n",
              "      <th>cleaned_camel</th>\n",
              "    </tr>\n",
              "  </thead>\n",
              "  <tbody>\n",
              "    <tr>\n",
              "      <th>23</th>\n",
              "      <td>23</td>\n",
              "      <td>aziz87_abdul</td>\n",
              "      <td>21</td>\n",
              "      <td>1702</td>\n",
              "      <td>طبعا بالنسبة للاكل .. هذي لها عقود والمخالفات ...</td>\n",
              "      <td>0.0</td>\n",
              "      <td>0.0</td>\n",
              "      <td>طبعا بالنسبه للاكل هذى لها عقود والمخالفات يتح...</td>\n",
              "      <td>negative</td>\n",
              "      <td>['negative']</td>\n",
              "      <td>negative</td>\n",
              "    </tr>\n",
              "    <tr>\n",
              "      <th>27</th>\n",
              "      <td>27</td>\n",
              "      <td>majedd981</td>\n",
              "      <td>209</td>\n",
              "      <td>35597</td>\n",
              "      <td>ما نكبنا غير التهريب و #تاشيرة_زائر  \\nيا ليت ...</td>\n",
              "      <td>16.0</td>\n",
              "      <td>0.0</td>\n",
              "      <td>ما نكبنا غير التهريب تاشيره زائر يا ليت السنه ...</td>\n",
              "      <td>negative</td>\n",
              "      <td>['negative']</td>\n",
              "      <td>negative</td>\n",
              "    </tr>\n",
              "    <tr>\n",
              "      <th>30</th>\n",
              "      <td>30</td>\n",
              "      <td>aljassem_89</td>\n",
              "      <td>10601</td>\n",
              "      <td>23517</td>\n",
              "      <td>مع الأسف من يومين كانت هناك حفلة لفنانة سعودية...</td>\n",
              "      <td>14.0</td>\n",
              "      <td>0.0</td>\n",
              "      <td>مع الاسف من يومين كانت هناك حفله لفنانه سعوديه...</td>\n",
              "      <td>neutral</td>\n",
              "      <td>['negative']</td>\n",
              "      <td>negative</td>\n",
              "    </tr>\n",
              "    <tr>\n",
              "      <th>31</th>\n",
              "      <td>31</td>\n",
              "      <td>alqaiser95</td>\n",
              "      <td>2016</td>\n",
              "      <td>60417</td>\n",
              "      <td>مره بالعمر و المقتدر مافي اشكاليه حسب الاستطاع...</td>\n",
              "      <td>1.0</td>\n",
              "      <td>0.0</td>\n",
              "      <td>مره بالعمر المقتدر مافى اشكاليه حسب الاستطاعه ...</td>\n",
              "      <td>negative</td>\n",
              "      <td>['negative']</td>\n",
              "      <td>negative</td>\n",
              "    </tr>\n",
              "    <tr>\n",
              "      <th>36</th>\n",
              "      <td>36</td>\n",
              "      <td>alfejraljded2</td>\n",
              "      <td>915</td>\n",
              "      <td>27582</td>\n",
              "      <td>: اقالة فريد عمادي باتت مطلب شعبي كل سنه الناس...</td>\n",
              "      <td>132.0</td>\n",
              "      <td>0.0</td>\n",
              "      <td>اقاله فريد عمادى باتت مطلب شعبى كل سنه الناس ي...</td>\n",
              "      <td>negative</td>\n",
              "      <td>['negative']</td>\n",
              "      <td>negative</td>\n",
              "    </tr>\n",
              "    <tr>\n",
              "      <th>...</th>\n",
              "      <td>...</td>\n",
              "      <td>...</td>\n",
              "      <td>...</td>\n",
              "      <td>...</td>\n",
              "      <td>...</td>\n",
              "      <td>...</td>\n",
              "      <td>...</td>\n",
              "      <td>...</td>\n",
              "      <td>...</td>\n",
              "      <td>...</td>\n",
              "      <td>...</td>\n",
              "    </tr>\n",
              "    <tr>\n",
              "      <th>47627</th>\n",
              "      <td>140544</td>\n",
              "      <td>rorooo11123</td>\n",
              "      <td>324</td>\n",
              "      <td>24885</td>\n",
              "      <td>اليوم شفت تشديد الامن والتفتيش اللي صاير عند م...</td>\n",
              "      <td>0.0</td>\n",
              "      <td>0.0</td>\n",
              "      <td>اليوم شفت تشديد الامن والتفتيش اللى صاير عند م...</td>\n",
              "      <td>negative</td>\n",
              "      <td>['negative']</td>\n",
              "      <td>negative</td>\n",
              "    </tr>\n",
              "    <tr>\n",
              "      <th>47628</th>\n",
              "      <td>140545</td>\n",
              "      <td>wasekballah</td>\n",
              "      <td>8327</td>\n",
              "      <td>43562</td>\n",
              "      <td>ما يفعله ابن سلمان فى مناسك الحج يؤكد الحاجة إ...</td>\n",
              "      <td>0.0</td>\n",
              "      <td>2.0</td>\n",
              "      <td>ما يفعله ابن سلمان فى مناسك الحج يكد الحاجه ال...</td>\n",
              "      <td>negative</td>\n",
              "      <td>['negative']</td>\n",
              "      <td>negative</td>\n",
              "    </tr>\n",
              "    <tr>\n",
              "      <th>47631</th>\n",
              "      <td>140557</td>\n",
              "      <td>sss08423144</td>\n",
              "      <td>36</td>\n",
              "      <td>4608</td>\n",
              "      <td>@Yaser46578913 @AJELNEWS24 غير صحيح بالعكس بيق...</td>\n",
              "      <td>1.0</td>\n",
              "      <td>0.0</td>\n",
              "      <td>غير صحيح بالعكس بيقل العرض وبيرتفع العقار وخل ...</td>\n",
              "      <td>negative</td>\n",
              "      <td>['negative']</td>\n",
              "      <td>negative</td>\n",
              "    </tr>\n",
              "    <tr>\n",
              "      <th>47635</th>\n",
              "      <td>140571</td>\n",
              "      <td>rashed_fahad9</td>\n",
              "      <td>1134</td>\n",
              "      <td>15646</td>\n",
              "      <td>يقول ناصر خسرو في رحلته إلى الحج ذلك حين مرَّ ...</td>\n",
              "      <td>0.0</td>\n",
              "      <td>0.0</td>\n",
              "      <td>يقول ناصر خسرو فى رحلته الى الحج ذلك حين مر با...</td>\n",
              "      <td>negative</td>\n",
              "      <td>['negative']</td>\n",
              "      <td>negative</td>\n",
              "    </tr>\n",
              "    <tr>\n",
              "      <th>47640</th>\n",
              "      <td>140601</td>\n",
              "      <td>iswi2fi</td>\n",
              "      <td>107</td>\n",
              "      <td>18160</td>\n",
              "      <td>@albadr1394 الحج الاكبر \\n يوم النحر \\n #عيد_ا...</td>\n",
              "      <td>0.0</td>\n",
              "      <td>0.0</td>\n",
              "      <td>الحج الاكبر يوم النحر عيد الاضحى</td>\n",
              "      <td>negative</td>\n",
              "      <td>['negative']</td>\n",
              "      <td>negative</td>\n",
              "    </tr>\n",
              "  </tbody>\n",
              "</table>\n",
              "<p>15811 rows × 11 columns</p>\n",
              "</div>\n",
              "      <button class=\"colab-df-convert\" onclick=\"convertToInteractive('df-1dfa2c65-047a-475c-b9b9-d06c9f412877')\"\n",
              "              title=\"Convert this dataframe to an interactive table.\"\n",
              "              style=\"display:none;\">\n",
              "        \n",
              "  <svg xmlns=\"http://www.w3.org/2000/svg\" height=\"24px\"viewBox=\"0 0 24 24\"\n",
              "       width=\"24px\">\n",
              "    <path d=\"M0 0h24v24H0V0z\" fill=\"none\"/>\n",
              "    <path d=\"M18.56 5.44l.94 2.06.94-2.06 2.06-.94-2.06-.94-.94-2.06-.94 2.06-2.06.94zm-11 1L8.5 8.5l.94-2.06 2.06-.94-2.06-.94L8.5 2.5l-.94 2.06-2.06.94zm10 10l.94 2.06.94-2.06 2.06-.94-2.06-.94-.94-2.06-.94 2.06-2.06.94z\"/><path d=\"M17.41 7.96l-1.37-1.37c-.4-.4-.92-.59-1.43-.59-.52 0-1.04.2-1.43.59L10.3 9.45l-7.72 7.72c-.78.78-.78 2.05 0 2.83L4 21.41c.39.39.9.59 1.41.59.51 0 1.02-.2 1.41-.59l7.78-7.78 2.81-2.81c.8-.78.8-2.07 0-2.86zM5.41 20L4 18.59l7.72-7.72 1.47 1.35L5.41 20z\"/>\n",
              "  </svg>\n",
              "      </button>\n",
              "      \n",
              "  <style>\n",
              "    .colab-df-container {\n",
              "      display:flex;\n",
              "      flex-wrap:wrap;\n",
              "      gap: 12px;\n",
              "    }\n",
              "\n",
              "    .colab-df-convert {\n",
              "      background-color: #E8F0FE;\n",
              "      border: none;\n",
              "      border-radius: 50%;\n",
              "      cursor: pointer;\n",
              "      display: none;\n",
              "      fill: #1967D2;\n",
              "      height: 32px;\n",
              "      padding: 0 0 0 0;\n",
              "      width: 32px;\n",
              "    }\n",
              "\n",
              "    .colab-df-convert:hover {\n",
              "      background-color: #E2EBFA;\n",
              "      box-shadow: 0px 1px 2px rgba(60, 64, 67, 0.3), 0px 1px 3px 1px rgba(60, 64, 67, 0.15);\n",
              "      fill: #174EA6;\n",
              "    }\n",
              "\n",
              "    [theme=dark] .colab-df-convert {\n",
              "      background-color: #3B4455;\n",
              "      fill: #D2E3FC;\n",
              "    }\n",
              "\n",
              "    [theme=dark] .colab-df-convert:hover {\n",
              "      background-color: #434B5C;\n",
              "      box-shadow: 0px 1px 3px 1px rgba(0, 0, 0, 0.15);\n",
              "      filter: drop-shadow(0px 1px 2px rgba(0, 0, 0, 0.3));\n",
              "      fill: #FFFFFF;\n",
              "    }\n",
              "  </style>\n",
              "\n",
              "      <script>\n",
              "        const buttonEl =\n",
              "          document.querySelector('#df-1dfa2c65-047a-475c-b9b9-d06c9f412877 button.colab-df-convert');\n",
              "        buttonEl.style.display =\n",
              "          google.colab.kernel.accessAllowed ? 'block' : 'none';\n",
              "\n",
              "        async function convertToInteractive(key) {\n",
              "          const element = document.querySelector('#df-1dfa2c65-047a-475c-b9b9-d06c9f412877');\n",
              "          const dataTable =\n",
              "            await google.colab.kernel.invokeFunction('convertToInteractive',\n",
              "                                                     [key], {});\n",
              "          if (!dataTable) return;\n",
              "\n",
              "          const docLinkHtml = 'Like what you see? Visit the ' +\n",
              "            '<a target=\"_blank\" href=https://colab.research.google.com/notebooks/data_table.ipynb>data table notebook</a>'\n",
              "            + ' to learn more about interactive tables.';\n",
              "          element.innerHTML = '';\n",
              "          dataTable['output_type'] = 'display_data';\n",
              "          await google.colab.output.renderOutput(dataTable, element);\n",
              "          const docLink = document.createElement('div');\n",
              "          docLink.innerHTML = docLinkHtml;\n",
              "          element.appendChild(docLink);\n",
              "        }\n",
              "      </script>\n",
              "    </div>\n",
              "  </div>\n",
              "  "
            ]
          },
          "metadata": {},
          "execution_count": 280
        }
      ]
    },
    {
      "cell_type": "code",
      "source": [
        "all_data.loc[all_data['cleaned_camel']=='neutral',:]"
      ],
      "metadata": {
        "colab": {
          "base_uri": "https://localhost:8080/",
          "height": 1000
        },
        "id": "oGrj4e4BLcp7",
        "outputId": "8f2b13e3-5bfe-4cf1-e4ab-86458c56d877"
      },
      "execution_count": null,
      "outputs": [
        {
          "output_type": "execute_result",
          "data": {
            "text/plain": [
              "       Unnamed: 0         username  author_followers author_tweets  \\\n",
              "0               0          raumunz              3070       1054648   \n",
              "1               1          hesheey               713         19244   \n",
              "5               5    nadeer5661333                71          1407   \n",
              "34             34      QarniZahrah              1231         92024   \n",
              "50             50          bnouf13             23647        135094   \n",
              "...           ...              ...               ...           ...   \n",
              "47621      140505  sbhanal62806345                 1            13   \n",
              "47624      140527    Ali2030020300               272          8345   \n",
              "47626      140539    Ali2030020300               272          8345   \n",
              "47639      140579           nsns0r                64           394   \n",
              "47647      140631           cxi_52                 7           128   \n",
              "\n",
              "                                                    text  retweets  likes  \\\n",
              "0      الحج المبرور ليس له جزاء إلا الجنة#السيرة_كأنك...     222.0    0.0   \n",
              "1        رئيس ساحل العاج يرفض البروتوكول السعودي في الحج     161.0    0.0   \n",
              "5      أثيوبي يحاول خطف دباب لعسكري في موسم الحج ويفز...    3714.0    0.0   \n",
              "34      شبكة سي ان ان: \\nالمملكة تصرف اكثر مما تجنيه ...     193.0    0.0   \n",
              "50     : حجاج من جنسيات مختلفة يؤكدون سهولة إنهاء إجر...      47.0    0.0   \n",
              "...                                                  ...       ...    ...   \n",
              "47621  وقفة عرفات هذا العام بإذن الله الجمعة \\n٧/٨ /٢...       1.0    1.0   \n",
              "47624  #منى\\nأسماء أيام الحج الستة :\\n\\n٨ يوم التروية...       0.0    2.0   \n",
              "47626  #يوم_التروية\\nأسماء أيام الحج الستة :\\n\\n٨ يوم...       0.0    1.0   \n",
              "47639  @Tea4life4 المواعيد تتحدث كل ساعتين وثلاث .. خ...       0.0    0.0   \n",
              "47647  @MtjrRyf @n_2ad ادخل على وازرة الحج واحجز عالذ...       0.0    0.0   \n",
              "\n",
              "                                               norm_text auto_lable  \\\n",
              "0      الحج المبرور ليس له جزاء الا الجنه السيره كانك...   positive   \n",
              "1        رئيس ساحل العاج يرفض البروتوكول السعودى فى الحج    neutral   \n",
              "5      اثىوبى يحاول خطف دباب لعسكرى فى موسم الحج ويفز...    neutral   \n",
              "34     شبكه سى ان ان المملكه تصرف اكثر مما تجنيه فى ا...    neutral   \n",
              "50     حجاج من جنسيات مختلفه يكدون سهوله انهاء اجراءا...    neutral   \n",
              "...                                                  ...        ...   \n",
              "47621  وقفه عرفات هذا العام باذن الله الجمعه    سوره ...   positive   \n",
              "47624  منى اسماء ايام الحج السته  يوم الترويه  يوم عر...    neutral   \n",
              "47626  يوم الترويه اسماء ايام الحج السته  يوم الترويه...    neutral   \n",
              "47639  المواعيد تتحدث كل ساعتين وثلاث خليك المواقع بع...    neutral   \n",
              "47647                ادخل على وازره الحج واحجز عالذاكرين    neutral   \n",
              "\n",
              "        camel_labe cleaned_camel  \n",
              "0      ['neutral']       neutral  \n",
              "1      ['neutral']       neutral  \n",
              "5      ['neutral']       neutral  \n",
              "34     ['neutral']       neutral  \n",
              "50     ['neutral']       neutral  \n",
              "...            ...           ...  \n",
              "47621  ['neutral']       neutral  \n",
              "47624  ['neutral']       neutral  \n",
              "47626  ['neutral']       neutral  \n",
              "47639  ['neutral']       neutral  \n",
              "47647  ['neutral']       neutral  \n",
              "\n",
              "[7793 rows x 11 columns]"
            ],
            "text/html": [
              "\n",
              "  <div id=\"df-fda2e2d5-0013-4ef0-9368-305a40440214\">\n",
              "    <div class=\"colab-df-container\">\n",
              "      <div>\n",
              "<style scoped>\n",
              "    .dataframe tbody tr th:only-of-type {\n",
              "        vertical-align: middle;\n",
              "    }\n",
              "\n",
              "    .dataframe tbody tr th {\n",
              "        vertical-align: top;\n",
              "    }\n",
              "\n",
              "    .dataframe thead th {\n",
              "        text-align: right;\n",
              "    }\n",
              "</style>\n",
              "<table border=\"1\" class=\"dataframe\">\n",
              "  <thead>\n",
              "    <tr style=\"text-align: right;\">\n",
              "      <th></th>\n",
              "      <th>Unnamed: 0</th>\n",
              "      <th>username</th>\n",
              "      <th>author_followers</th>\n",
              "      <th>author_tweets</th>\n",
              "      <th>text</th>\n",
              "      <th>retweets</th>\n",
              "      <th>likes</th>\n",
              "      <th>norm_text</th>\n",
              "      <th>auto_lable</th>\n",
              "      <th>camel_labe</th>\n",
              "      <th>cleaned_camel</th>\n",
              "    </tr>\n",
              "  </thead>\n",
              "  <tbody>\n",
              "    <tr>\n",
              "      <th>0</th>\n",
              "      <td>0</td>\n",
              "      <td>raumunz</td>\n",
              "      <td>3070</td>\n",
              "      <td>1054648</td>\n",
              "      <td>الحج المبرور ليس له جزاء إلا الجنة#السيرة_كأنك...</td>\n",
              "      <td>222.0</td>\n",
              "      <td>0.0</td>\n",
              "      <td>الحج المبرور ليس له جزاء الا الجنه السيره كانك...</td>\n",
              "      <td>positive</td>\n",
              "      <td>['neutral']</td>\n",
              "      <td>neutral</td>\n",
              "    </tr>\n",
              "    <tr>\n",
              "      <th>1</th>\n",
              "      <td>1</td>\n",
              "      <td>hesheey</td>\n",
              "      <td>713</td>\n",
              "      <td>19244</td>\n",
              "      <td>رئيس ساحل العاج يرفض البروتوكول السعودي في الحج</td>\n",
              "      <td>161.0</td>\n",
              "      <td>0.0</td>\n",
              "      <td>رئيس ساحل العاج يرفض البروتوكول السعودى فى الحج</td>\n",
              "      <td>neutral</td>\n",
              "      <td>['neutral']</td>\n",
              "      <td>neutral</td>\n",
              "    </tr>\n",
              "    <tr>\n",
              "      <th>5</th>\n",
              "      <td>5</td>\n",
              "      <td>nadeer5661333</td>\n",
              "      <td>71</td>\n",
              "      <td>1407</td>\n",
              "      <td>أثيوبي يحاول خطف دباب لعسكري في موسم الحج ويفز...</td>\n",
              "      <td>3714.0</td>\n",
              "      <td>0.0</td>\n",
              "      <td>اثىوبى يحاول خطف دباب لعسكرى فى موسم الحج ويفز...</td>\n",
              "      <td>neutral</td>\n",
              "      <td>['neutral']</td>\n",
              "      <td>neutral</td>\n",
              "    </tr>\n",
              "    <tr>\n",
              "      <th>34</th>\n",
              "      <td>34</td>\n",
              "      <td>QarniZahrah</td>\n",
              "      <td>1231</td>\n",
              "      <td>92024</td>\n",
              "      <td>شبكة سي ان ان: \\nالمملكة تصرف اكثر مما تجنيه ...</td>\n",
              "      <td>193.0</td>\n",
              "      <td>0.0</td>\n",
              "      <td>شبكه سى ان ان المملكه تصرف اكثر مما تجنيه فى ا...</td>\n",
              "      <td>neutral</td>\n",
              "      <td>['neutral']</td>\n",
              "      <td>neutral</td>\n",
              "    </tr>\n",
              "    <tr>\n",
              "      <th>50</th>\n",
              "      <td>50</td>\n",
              "      <td>bnouf13</td>\n",
              "      <td>23647</td>\n",
              "      <td>135094</td>\n",
              "      <td>: حجاج من جنسيات مختلفة يؤكدون سهولة إنهاء إجر...</td>\n",
              "      <td>47.0</td>\n",
              "      <td>0.0</td>\n",
              "      <td>حجاج من جنسيات مختلفه يكدون سهوله انهاء اجراءا...</td>\n",
              "      <td>neutral</td>\n",
              "      <td>['neutral']</td>\n",
              "      <td>neutral</td>\n",
              "    </tr>\n",
              "    <tr>\n",
              "      <th>...</th>\n",
              "      <td>...</td>\n",
              "      <td>...</td>\n",
              "      <td>...</td>\n",
              "      <td>...</td>\n",
              "      <td>...</td>\n",
              "      <td>...</td>\n",
              "      <td>...</td>\n",
              "      <td>...</td>\n",
              "      <td>...</td>\n",
              "      <td>...</td>\n",
              "      <td>...</td>\n",
              "    </tr>\n",
              "    <tr>\n",
              "      <th>47621</th>\n",
              "      <td>140505</td>\n",
              "      <td>sbhanal62806345</td>\n",
              "      <td>1</td>\n",
              "      <td>13</td>\n",
              "      <td>وقفة عرفات هذا العام بإذن الله الجمعة \\n٧/٨ /٢...</td>\n",
              "      <td>1.0</td>\n",
              "      <td>1.0</td>\n",
              "      <td>وقفه عرفات هذا العام باذن الله الجمعه    سوره ...</td>\n",
              "      <td>positive</td>\n",
              "      <td>['neutral']</td>\n",
              "      <td>neutral</td>\n",
              "    </tr>\n",
              "    <tr>\n",
              "      <th>47624</th>\n",
              "      <td>140527</td>\n",
              "      <td>Ali2030020300</td>\n",
              "      <td>272</td>\n",
              "      <td>8345</td>\n",
              "      <td>#منى\\nأسماء أيام الحج الستة :\\n\\n٨ يوم التروية...</td>\n",
              "      <td>0.0</td>\n",
              "      <td>2.0</td>\n",
              "      <td>منى اسماء ايام الحج السته  يوم الترويه  يوم عر...</td>\n",
              "      <td>neutral</td>\n",
              "      <td>['neutral']</td>\n",
              "      <td>neutral</td>\n",
              "    </tr>\n",
              "    <tr>\n",
              "      <th>47626</th>\n",
              "      <td>140539</td>\n",
              "      <td>Ali2030020300</td>\n",
              "      <td>272</td>\n",
              "      <td>8345</td>\n",
              "      <td>#يوم_التروية\\nأسماء أيام الحج الستة :\\n\\n٨ يوم...</td>\n",
              "      <td>0.0</td>\n",
              "      <td>1.0</td>\n",
              "      <td>يوم الترويه اسماء ايام الحج السته  يوم الترويه...</td>\n",
              "      <td>neutral</td>\n",
              "      <td>['neutral']</td>\n",
              "      <td>neutral</td>\n",
              "    </tr>\n",
              "    <tr>\n",
              "      <th>47639</th>\n",
              "      <td>140579</td>\n",
              "      <td>nsns0r</td>\n",
              "      <td>64</td>\n",
              "      <td>394</td>\n",
              "      <td>@Tea4life4 المواعيد تتحدث كل ساعتين وثلاث .. خ...</td>\n",
              "      <td>0.0</td>\n",
              "      <td>0.0</td>\n",
              "      <td>المواعيد تتحدث كل ساعتين وثلاث خليك المواقع بع...</td>\n",
              "      <td>neutral</td>\n",
              "      <td>['neutral']</td>\n",
              "      <td>neutral</td>\n",
              "    </tr>\n",
              "    <tr>\n",
              "      <th>47647</th>\n",
              "      <td>140631</td>\n",
              "      <td>cxi_52</td>\n",
              "      <td>7</td>\n",
              "      <td>128</td>\n",
              "      <td>@MtjrRyf @n_2ad ادخل على وازرة الحج واحجز عالذ...</td>\n",
              "      <td>0.0</td>\n",
              "      <td>0.0</td>\n",
              "      <td>ادخل على وازره الحج واحجز عالذاكرين</td>\n",
              "      <td>neutral</td>\n",
              "      <td>['neutral']</td>\n",
              "      <td>neutral</td>\n",
              "    </tr>\n",
              "  </tbody>\n",
              "</table>\n",
              "<p>7793 rows × 11 columns</p>\n",
              "</div>\n",
              "      <button class=\"colab-df-convert\" onclick=\"convertToInteractive('df-fda2e2d5-0013-4ef0-9368-305a40440214')\"\n",
              "              title=\"Convert this dataframe to an interactive table.\"\n",
              "              style=\"display:none;\">\n",
              "        \n",
              "  <svg xmlns=\"http://www.w3.org/2000/svg\" height=\"24px\"viewBox=\"0 0 24 24\"\n",
              "       width=\"24px\">\n",
              "    <path d=\"M0 0h24v24H0V0z\" fill=\"none\"/>\n",
              "    <path d=\"M18.56 5.44l.94 2.06.94-2.06 2.06-.94-2.06-.94-.94-2.06-.94 2.06-2.06.94zm-11 1L8.5 8.5l.94-2.06 2.06-.94-2.06-.94L8.5 2.5l-.94 2.06-2.06.94zm10 10l.94 2.06.94-2.06 2.06-.94-2.06-.94-.94-2.06-.94 2.06-2.06.94z\"/><path d=\"M17.41 7.96l-1.37-1.37c-.4-.4-.92-.59-1.43-.59-.52 0-1.04.2-1.43.59L10.3 9.45l-7.72 7.72c-.78.78-.78 2.05 0 2.83L4 21.41c.39.39.9.59 1.41.59.51 0 1.02-.2 1.41-.59l7.78-7.78 2.81-2.81c.8-.78.8-2.07 0-2.86zM5.41 20L4 18.59l7.72-7.72 1.47 1.35L5.41 20z\"/>\n",
              "  </svg>\n",
              "      </button>\n",
              "      \n",
              "  <style>\n",
              "    .colab-df-container {\n",
              "      display:flex;\n",
              "      flex-wrap:wrap;\n",
              "      gap: 12px;\n",
              "    }\n",
              "\n",
              "    .colab-df-convert {\n",
              "      background-color: #E8F0FE;\n",
              "      border: none;\n",
              "      border-radius: 50%;\n",
              "      cursor: pointer;\n",
              "      display: none;\n",
              "      fill: #1967D2;\n",
              "      height: 32px;\n",
              "      padding: 0 0 0 0;\n",
              "      width: 32px;\n",
              "    }\n",
              "\n",
              "    .colab-df-convert:hover {\n",
              "      background-color: #E2EBFA;\n",
              "      box-shadow: 0px 1px 2px rgba(60, 64, 67, 0.3), 0px 1px 3px 1px rgba(60, 64, 67, 0.15);\n",
              "      fill: #174EA6;\n",
              "    }\n",
              "\n",
              "    [theme=dark] .colab-df-convert {\n",
              "      background-color: #3B4455;\n",
              "      fill: #D2E3FC;\n",
              "    }\n",
              "\n",
              "    [theme=dark] .colab-df-convert:hover {\n",
              "      background-color: #434B5C;\n",
              "      box-shadow: 0px 1px 3px 1px rgba(0, 0, 0, 0.15);\n",
              "      filter: drop-shadow(0px 1px 2px rgba(0, 0, 0, 0.3));\n",
              "      fill: #FFFFFF;\n",
              "    }\n",
              "  </style>\n",
              "\n",
              "      <script>\n",
              "        const buttonEl =\n",
              "          document.querySelector('#df-fda2e2d5-0013-4ef0-9368-305a40440214 button.colab-df-convert');\n",
              "        buttonEl.style.display =\n",
              "          google.colab.kernel.accessAllowed ? 'block' : 'none';\n",
              "\n",
              "        async function convertToInteractive(key) {\n",
              "          const element = document.querySelector('#df-fda2e2d5-0013-4ef0-9368-305a40440214');\n",
              "          const dataTable =\n",
              "            await google.colab.kernel.invokeFunction('convertToInteractive',\n",
              "                                                     [key], {});\n",
              "          if (!dataTable) return;\n",
              "\n",
              "          const docLinkHtml = 'Like what you see? Visit the ' +\n",
              "            '<a target=\"_blank\" href=https://colab.research.google.com/notebooks/data_table.ipynb>data table notebook</a>'\n",
              "            + ' to learn more about interactive tables.';\n",
              "          element.innerHTML = '';\n",
              "          dataTable['output_type'] = 'display_data';\n",
              "          await google.colab.output.renderOutput(dataTable, element);\n",
              "          const docLink = document.createElement('div');\n",
              "          docLink.innerHTML = docLinkHtml;\n",
              "          element.appendChild(docLink);\n",
              "        }\n",
              "      </script>\n",
              "    </div>\n",
              "  </div>\n",
              "  "
            ]
          },
          "metadata": {},
          "execution_count": 282
        }
      ]
    },
    {
      "cell_type": "code",
      "source": [
        "all_data.groupby('cleaned_camel').size().plot(kind='bar', title='number of persons per class Camel')"
      ],
      "metadata": {
        "colab": {
          "base_uri": "https://localhost:8080/",
          "height": 347
        },
        "id": "eRgm6_qyObwL",
        "outputId": "cbeaf25e-8d25-417b-cfe3-0f2f9fad8580"
      },
      "execution_count": null,
      "outputs": [
        {
          "output_type": "execute_result",
          "data": {
            "text/plain": [
              "<matplotlib.axes._subplots.AxesSubplot at 0x7f602b74e110>"
            ]
          },
          "metadata": {},
          "execution_count": 286
        },
        {
          "output_type": "display_data",
          "data": {
            "text/plain": [
              "<Figure size 432x288 with 1 Axes>"
            ],
            "image/png": "[encoded data removed]"
          },
          "metadata": {
            "needs_background": "light"
          }
        }
      ]
    },
    {
      "cell_type": "code",
      "source": [
        "df.groupby('auto_lable').size().plot(kind='bar', title='number of persons per class Mazajek')"
      ],
      "metadata": {
        "id": "CZ8QH7IHOmlP",
        "colab": {
          "base_uri": "https://localhost:8080/",
          "height": 347
        },
        "outputId": "dc0e4226-5504-4ba4-a4bc-eb14b1297787"
      },
      "execution_count": null,
      "outputs": [
        {
          "output_type": "execute_result",
          "data": {
            "text/plain": [
              "<matplotlib.axes._subplots.AxesSubplot at 0x7f602b6ee650>"
            ]
          },
          "metadata": {},
          "execution_count": 287
        },
        {
          "output_type": "display_data",
          "data": {
            "text/plain": [
              "<Figure size 432x288 with 1 Axes>"
            ],
            "image/png": "[encoded data removed]"
          },
          "metadata": {
            "needs_background": "light"
          }
        }
      ]
    },
    {
      "cell_type": "code",
      "source": [
        "diff_df = all_data[all_data['auto_lable'] != all_data['cleaned_camel']]"
      ],
      "metadata": {
        "id": "A7iQ9EhTQQEu"
      },
      "execution_count": null,
      "outputs": []
    },
    {
      "cell_type": "code",
      "source": [
        "diff_df = diff_df[['norm_text','auto_lable','cleaned_camel']]"
      ],
      "metadata": {
        "id": "muiLYsJwQkNt"
      },
      "execution_count": null,
      "outputs": []
    },
    {
      "cell_type": "code",
      "source": [
        "diff_df"
      ],
      "metadata": {
        "colab": {
          "base_uri": "https://localhost:8080/",
          "height": 424
        },
        "id": "F6wKhmepRtQD",
        "outputId": "c1b54fb4-53d4-468f-bfb9-12242f99ce83"
      },
      "execution_count": null,
      "outputs": [
        {
          "output_type": "execute_result",
          "data": {
            "text/plain": [
              "                                               norm_text auto_lable  \\\n",
              "0      الحج المبرور ليس له جزاء الا الجنه السيره كانك...   positive   \n",
              "4      الاتحاد الاوروبى السعوديه نجحت باداره موسم الح...    neutral   \n",
              "9      طريق مكه السعوديه تنهض داخليا وفق منهجيات الري...    neutral   \n",
              "25     وزير الداخليه لـ خادم الحرمين دعمكم المباشر وت...    neutral   \n",
              "28     رئيس الدوله محمد بن راشد يهنئان خادم الحرمين ا...    neutral   \n",
              "...                                                  ...        ...   \n",
              "47616  ليه الحجاج لما بيرجعوا من الحج ميبجوش لينا ماي...   negative   \n",
              "47620  مسابقه رحله الحج الاجابه يوم النحر والله ولى ا...    neutral   \n",
              "47621  وقفه عرفات هذا العام باذن الله الجمعه    سوره ...   positive   \n",
              "47634  اللى نقراه منك ابعد مايكون عن المراجل اطفال فى...   negative   \n",
              "47636  ومن اعمال يوم الترويه الصلاه ىصلى الحجاج الصلو...    neutral   \n",
              "\n",
              "      cleaned_camel  \n",
              "0           neutral  \n",
              "4          positive  \n",
              "9          positive  \n",
              "25         positive  \n",
              "28         positive  \n",
              "...             ...  \n",
              "47616       neutral  \n",
              "47620      positive  \n",
              "47621       neutral  \n",
              "47634      positive  \n",
              "47636      positive  \n",
              "\n",
              "[11137 rows x 3 columns]"
            ],
            "text/html": [
              "\n",
              "  <div id=\"df-8c804914-f4bd-4ef1-9fc4-88c223ee4b58\">\n",
              "    <div class=\"colab-df-container\">\n",
              "      <div>\n",
              "<style scoped>\n",
              "    .dataframe tbody tr th:only-of-type {\n",
              "        vertical-align: middle;\n",
              "    }\n",
              "\n",
              "    .dataframe tbody tr th {\n",
              "        vertical-align: top;\n",
              "    }\n",
              "\n",
              "    .dataframe thead th {\n",
              "        text-align: right;\n",
              "    }\n",
              "</style>\n",
              "<table border=\"1\" class=\"dataframe\">\n",
              "  <thead>\n",
              "    <tr style=\"text-align: right;\">\n",
              "      <th></th>\n",
              "      <th>norm_text</th>\n",
              "      <th>auto_lable</th>\n",
              "      <th>cleaned_camel</th>\n",
              "    </tr>\n",
              "  </thead>\n",
              "  <tbody>\n",
              "    <tr>\n",
              "      <th>0</th>\n",
              "      <td>الحج المبرور ليس له جزاء الا الجنه السيره كانك...</td>\n",
              "      <td>positive</td>\n",
              "      <td>neutral</td>\n",
              "    </tr>\n",
              "    <tr>\n",
              "      <th>4</th>\n",
              "      <td>الاتحاد الاوروبى السعوديه نجحت باداره موسم الح...</td>\n",
              "      <td>neutral</td>\n",
              "      <td>positive</td>\n",
              "    </tr>\n",
              "    <tr>\n",
              "      <th>9</th>\n",
              "      <td>طريق مكه السعوديه تنهض داخليا وفق منهجيات الري...</td>\n",
              "      <td>neutral</td>\n",
              "      <td>positive</td>\n",
              "    </tr>\n",
              "    <tr>\n",
              "      <th>25</th>\n",
              "      <td>وزير الداخليه لـ خادم الحرمين دعمكم المباشر وت...</td>\n",
              "      <td>neutral</td>\n",
              "      <td>positive</td>\n",
              "    </tr>\n",
              "    <tr>\n",
              "      <th>28</th>\n",
              "      <td>رئيس الدوله محمد بن راشد يهنئان خادم الحرمين ا...</td>\n",
              "      <td>neutral</td>\n",
              "      <td>positive</td>\n",
              "    </tr>\n",
              "    <tr>\n",
              "      <th>...</th>\n",
              "      <td>...</td>\n",
              "      <td>...</td>\n",
              "      <td>...</td>\n",
              "    </tr>\n",
              "    <tr>\n",
              "      <th>47616</th>\n",
              "      <td>ليه الحجاج لما بيرجعوا من الحج ميبجوش لينا ماي...</td>\n",
              "      <td>negative</td>\n",
              "      <td>neutral</td>\n",
              "    </tr>\n",
              "    <tr>\n",
              "      <th>47620</th>\n",
              "      <td>مسابقه رحله الحج الاجابه يوم النحر والله ولى ا...</td>\n",
              "      <td>neutral</td>\n",
              "      <td>positive</td>\n",
              "    </tr>\n",
              "    <tr>\n",
              "      <th>47621</th>\n",
              "      <td>وقفه عرفات هذا العام باذن الله الجمعه    سوره ...</td>\n",
              "      <td>positive</td>\n",
              "      <td>neutral</td>\n",
              "    </tr>\n",
              "    <tr>\n",
              "      <th>47634</th>\n",
              "      <td>اللى نقراه منك ابعد مايكون عن المراجل اطفال فى...</td>\n",
              "      <td>negative</td>\n",
              "      <td>positive</td>\n",
              "    </tr>\n",
              "    <tr>\n",
              "      <th>47636</th>\n",
              "      <td>ومن اعمال يوم الترويه الصلاه ىصلى الحجاج الصلو...</td>\n",
              "      <td>neutral</td>\n",
              "      <td>positive</td>\n",
              "    </tr>\n",
              "  </tbody>\n",
              "</table>\n",
              "<p>11137 rows × 3 columns</p>\n",
              "</div>\n",
              "      <button class=\"colab-df-convert\" onclick=\"convertToInteractive('df-8c804914-f4bd-4ef1-9fc4-88c223ee4b58')\"\n",
              "              title=\"Convert this dataframe to an interactive table.\"\n",
              "              style=\"display:none;\">\n",
              "        \n",
              "  <svg xmlns=\"http://www.w3.org/2000/svg\" height=\"24px\"viewBox=\"0 0 24 24\"\n",
              "       width=\"24px\">\n",
              "    <path d=\"M0 0h24v24H0V0z\" fill=\"none\"/>\n",
              "    <path d=\"M18.56 5.44l.94 2.06.94-2.06 2.06-.94-2.06-.94-.94-2.06-.94 2.06-2.06.94zm-11 1L8.5 8.5l.94-2.06 2.06-.94-2.06-.94L8.5 2.5l-.94 2.06-2.06.94zm10 10l.94 2.06.94-2.06 2.06-.94-2.06-.94-.94-2.06-.94 2.06-2.06.94z\"/><path d=\"M17.41 7.96l-1.37-1.37c-.4-.4-.92-.59-1.43-.59-.52 0-1.04.2-1.43.59L10.3 9.45l-7.72 7.72c-.78.78-.78 2.05 0 2.83L4 21.41c.39.39.9.59 1.41.59.51 0 1.02-.2 1.41-.59l7.78-7.78 2.81-2.81c.8-.78.8-2.07 0-2.86zM5.41 20L4 18.59l7.72-7.72 1.47 1.35L5.41 20z\"/>\n",
              "  </svg>\n",
              "      </button>\n",
              "      \n",
              "  <style>\n",
              "    .colab-df-container {\n",
              "      display:flex;\n",
              "      flex-wrap:wrap;\n",
              "      gap: 12px;\n",
              "    }\n",
              "\n",
              "    .colab-df-convert {\n",
              "      background-color: #E8F0FE;\n",
              "      border: none;\n",
              "      border-radius: 50%;\n",
              "      cursor: pointer;\n",
              "      display: none;\n",
              "      fill: #1967D2;\n",
              "      height: 32px;\n",
              "      padding: 0 0 0 0;\n",
              "      width: 32px;\n",
              "    }\n",
              "\n",
              "    .colab-df-convert:hover {\n",
              "      background-color: #E2EBFA;\n",
              "      box-shadow: 0px 1px 2px rgba(60, 64, 67, 0.3), 0px 1px 3px 1px rgba(60, 64, 67, 0.15);\n",
              "      fill: #174EA6;\n",
              "    }\n",
              "\n",
              "    [theme=dark] .colab-df-convert {\n",
              "      background-color: #3B4455;\n",
              "      fill: #D2E3FC;\n",
              "    }\n",
              "\n",
              "    [theme=dark] .colab-df-convert:hover {\n",
              "      background-color: #434B5C;\n",
              "      box-shadow: 0px 1px 3px 1px rgba(0, 0, 0, 0.15);\n",
              "      filter: drop-shadow(0px 1px 2px rgba(0, 0, 0, 0.3));\n",
              "      fill: #FFFFFF;\n",
              "    }\n",
              "  </style>\n",
              "\n",
              "      <script>\n",
              "        const buttonEl =\n",
              "          document.querySelector('#df-8c804914-f4bd-4ef1-9fc4-88c223ee4b58 button.colab-df-convert');\n",
              "        buttonEl.style.display =\n",
              "          google.colab.kernel.accessAllowed ? 'block' : 'none';\n",
              "\n",
              "        async function convertToInteractive(key) {\n",
              "          const element = document.querySelector('#df-8c804914-f4bd-4ef1-9fc4-88c223ee4b58');\n",
              "          const dataTable =\n",
              "            await google.colab.kernel.invokeFunction('convertToInteractive',\n",
              "                                                     [key], {});\n",
              "          if (!dataTable) return;\n",
              "\n",
              "          const docLinkHtml = 'Like what you see? Visit the ' +\n",
              "            '<a target=\"_blank\" href=https://colab.research.google.com/notebooks/data_table.ipynb>data table notebook</a>'\n",
              "            + ' to learn more about interactive tables.';\n",
              "          element.innerHTML = '';\n",
              "          dataTable['output_type'] = 'display_data';\n",
              "          await google.colab.output.renderOutput(dataTable, element);\n",
              "          const docLink = document.createElement('div');\n",
              "          docLink.innerHTML = docLinkHtml;\n",
              "          element.appendChild(docLink);\n",
              "        }\n",
              "      </script>\n",
              "    </div>\n",
              "  </div>\n",
              "  "
            ]
          },
          "metadata": {},
          "execution_count": 303
        }
      ]
    },
    {
      "cell_type": "code",
      "source": [
        "diff_df.sample(15)"
      ],
      "metadata": {
        "colab": {
          "base_uri": "https://localhost:8080/",
          "height": 520
        },
        "id": "ganzwOFCSOGY",
        "outputId": "ba45904c-e220-400b-dec1-278af690b8d7"
      },
      "execution_count": null,
      "outputs": [
        {
          "output_type": "execute_result",
          "data": {
            "text/plain": [
              "                                               norm_text auto_lable  \\\n",
              "26772  يا من تمنى الحج فحبسه عذر ابشر بقوله  ان بالم ...   negative   \n",
              "26344  ساكون معكم على قناه الساحات الفضائيه فى قضيه ا...   negative   \n",
              "35203  لا اله الا الله ولا نعبد الا اى اه ين له الدين...   positive   \n",
              "28454  كانت تلك هى اول عمليه لتحويل الحج الى حج اسلام...   negative   \n",
              "36770  يوم رفه يوم بارك لا كتم الحج بدون يوم يام كف س...    neutral   \n",
              "11135  نجاح موسم الحج فى قلب مكه جميع الخدمات متوفره ...    neutral   \n",
              "1112   حساب وزاره الحج والعمره نقله نوعيه سواء فى الم...    neutral   \n",
              "23485  الحج هو رمز لوحده المسلمين واعلان البراءه من ا...   negative   \n",
              "25120                   حتى الحج على حساب غيرك يخرب بيتك    neutral   \n",
              "33625  وزاره الصحه اكثر الحالات زياره فى موسم الحج هى...    neutral   \n",
              "6605   علامه الحج المبرور قال الحسن البصرى رحمه الله ...   positive   \n",
              "26358  ليت طلعت لى القرعه وتطلع قيمه الحمله  الف راضى...   positive   \n",
              "23496  فلا يجتمع الناس على الاحجار بل على الجوهر التى...   positive   \n",
              "12636                       مافيش جديد احمد ذى الحج احمد    neutral   \n",
              "10209  تخيلت مجرد تخيل ان مكه الحج بيد دوله من دول ال...   negative   \n",
              "\n",
              "      cleaned_camel  \n",
              "26772       neutral  \n",
              "26344       neutral  \n",
              "35203       neutral  \n",
              "28454      positive  \n",
              "36770      positive  \n",
              "11135      positive  \n",
              "1112       positive  \n",
              "23485      positive  \n",
              "25120      negative  \n",
              "33625      negative  \n",
              "6605        neutral  \n",
              "26358      negative  \n",
              "23496       neutral  \n",
              "12636      negative  \n",
              "10209      positive  "
            ],
            "text/html": [
              "\n",
              "  <div id=\"df-bfe8477a-4f1e-45da-a854-65554463d1a7\">\n",
              "    <div class=\"colab-df-container\">\n",
              "      <div>\n",
              "<style scoped>\n",
              "    .dataframe tbody tr th:only-of-type {\n",
              "        vertical-align: middle;\n",
              "    }\n",
              "\n",
              "    .dataframe tbody tr th {\n",
              "        vertical-align: top;\n",
              "    }\n",
              "\n",
              "    .dataframe thead th {\n",
              "        text-align: right;\n",
              "    }\n",
              "</style>\n",
              "<table border=\"1\" class=\"dataframe\">\n",
              "  <thead>\n",
              "    <tr style=\"text-align: right;\">\n",
              "      <th></th>\n",
              "      <th>norm_text</th>\n",
              "      <th>auto_lable</th>\n",
              "      <th>cleaned_camel</th>\n",
              "    </tr>\n",
              "  </thead>\n",
              "  <tbody>\n",
              "    <tr>\n",
              "      <th>26772</th>\n",
              "      <td>يا من تمنى الحج فحبسه عذر ابشر بقوله  ان بالم ...</td>\n",
              "      <td>negative</td>\n",
              "      <td>neutral</td>\n",
              "    </tr>\n",
              "    <tr>\n",
              "      <th>26344</th>\n",
              "      <td>ساكون معكم على قناه الساحات الفضائيه فى قضيه ا...</td>\n",
              "      <td>negative</td>\n",
              "      <td>neutral</td>\n",
              "    </tr>\n",
              "    <tr>\n",
              "      <th>35203</th>\n",
              "      <td>لا اله الا الله ولا نعبد الا اى اه ين له الدين...</td>\n",
              "      <td>positive</td>\n",
              "      <td>neutral</td>\n",
              "    </tr>\n",
              "    <tr>\n",
              "      <th>28454</th>\n",
              "      <td>كانت تلك هى اول عمليه لتحويل الحج الى حج اسلام...</td>\n",
              "      <td>negative</td>\n",
              "      <td>positive</td>\n",
              "    </tr>\n",
              "    <tr>\n",
              "      <th>36770</th>\n",
              "      <td>يوم رفه يوم بارك لا كتم الحج بدون يوم يام كف س...</td>\n",
              "      <td>neutral</td>\n",
              "      <td>positive</td>\n",
              "    </tr>\n",
              "    <tr>\n",
              "      <th>11135</th>\n",
              "      <td>نجاح موسم الحج فى قلب مكه جميع الخدمات متوفره ...</td>\n",
              "      <td>neutral</td>\n",
              "      <td>positive</td>\n",
              "    </tr>\n",
              "    <tr>\n",
              "      <th>1112</th>\n",
              "      <td>حساب وزاره الحج والعمره نقله نوعيه سواء فى الم...</td>\n",
              "      <td>neutral</td>\n",
              "      <td>positive</td>\n",
              "    </tr>\n",
              "    <tr>\n",
              "      <th>23485</th>\n",
              "      <td>الحج هو رمز لوحده المسلمين واعلان البراءه من ا...</td>\n",
              "      <td>negative</td>\n",
              "      <td>positive</td>\n",
              "    </tr>\n",
              "    <tr>\n",
              "      <th>25120</th>\n",
              "      <td>حتى الحج على حساب غيرك يخرب بيتك</td>\n",
              "      <td>neutral</td>\n",
              "      <td>negative</td>\n",
              "    </tr>\n",
              "    <tr>\n",
              "      <th>33625</th>\n",
              "      <td>وزاره الصحه اكثر الحالات زياره فى موسم الحج هى...</td>\n",
              "      <td>neutral</td>\n",
              "      <td>negative</td>\n",
              "    </tr>\n",
              "    <tr>\n",
              "      <th>6605</th>\n",
              "      <td>علامه الحج المبرور قال الحسن البصرى رحمه الله ...</td>\n",
              "      <td>positive</td>\n",
              "      <td>neutral</td>\n",
              "    </tr>\n",
              "    <tr>\n",
              "      <th>26358</th>\n",
              "      <td>ليت طلعت لى القرعه وتطلع قيمه الحمله  الف راضى...</td>\n",
              "      <td>positive</td>\n",
              "      <td>negative</td>\n",
              "    </tr>\n",
              "    <tr>\n",
              "      <th>23496</th>\n",
              "      <td>فلا يجتمع الناس على الاحجار بل على الجوهر التى...</td>\n",
              "      <td>positive</td>\n",
              "      <td>neutral</td>\n",
              "    </tr>\n",
              "    <tr>\n",
              "      <th>12636</th>\n",
              "      <td>مافيش جديد احمد ذى الحج احمد</td>\n",
              "      <td>neutral</td>\n",
              "      <td>negative</td>\n",
              "    </tr>\n",
              "    <tr>\n",
              "      <th>10209</th>\n",
              "      <td>تخيلت مجرد تخيل ان مكه الحج بيد دوله من دول ال...</td>\n",
              "      <td>negative</td>\n",
              "      <td>positive</td>\n",
              "    </tr>\n",
              "  </tbody>\n",
              "</table>\n",
              "</div>\n",
              "      <button class=\"colab-df-convert\" onclick=\"convertToInteractive('df-bfe8477a-4f1e-45da-a854-65554463d1a7')\"\n",
              "              title=\"Convert this dataframe to an interactive table.\"\n",
              "              style=\"display:none;\">\n",
              "        \n",
              "  <svg xmlns=\"http://www.w3.org/2000/svg\" height=\"24px\"viewBox=\"0 0 24 24\"\n",
              "       width=\"24px\">\n",
              "    <path d=\"M0 0h24v24H0V0z\" fill=\"none\"/>\n",
              "    <path d=\"M18.56 5.44l.94 2.06.94-2.06 2.06-.94-2.06-.94-.94-2.06-.94 2.06-2.06.94zm-11 1L8.5 8.5l.94-2.06 2.06-.94-2.06-.94L8.5 2.5l-.94 2.06-2.06.94zm10 10l.94 2.06.94-2.06 2.06-.94-2.06-.94-.94-2.06-.94 2.06-2.06.94z\"/><path d=\"M17.41 7.96l-1.37-1.37c-.4-.4-.92-.59-1.43-.59-.52 0-1.04.2-1.43.59L10.3 9.45l-7.72 7.72c-.78.78-.78 2.05 0 2.83L4 21.41c.39.39.9.59 1.41.59.51 0 1.02-.2 1.41-.59l7.78-7.78 2.81-2.81c.8-.78.8-2.07 0-2.86zM5.41 20L4 18.59l7.72-7.72 1.47 1.35L5.41 20z\"/>\n",
              "  </svg>\n",
              "      </button>\n",
              "      \n",
              "  <style>\n",
              "    .colab-df-container {\n",
              "      display:flex;\n",
              "      flex-wrap:wrap;\n",
              "      gap: 12px;\n",
              "    }\n",
              "\n",
              "    .colab-df-convert {\n",
              "      background-color: #E8F0FE;\n",
              "      border: none;\n",
              "      border-radius: 50%;\n",
              "      cursor: pointer;\n",
              "      display: none;\n",
              "      fill: #1967D2;\n",
              "      height: 32px;\n",
              "      padding: 0 0 0 0;\n",
              "      width: 32px;\n",
              "    }\n",
              "\n",
              "    .colab-df-convert:hover {\n",
              "      background-color: #E2EBFA;\n",
              "      box-shadow: 0px 1px 2px rgba(60, 64, 67, 0.3), 0px 1px 3px 1px rgba(60, 64, 67, 0.15);\n",
              "      fill: #174EA6;\n",
              "    }\n",
              "\n",
              "    [theme=dark] .colab-df-convert {\n",
              "      background-color: #3B4455;\n",
              "      fill: #D2E3FC;\n",
              "    }\n",
              "\n",
              "    [theme=dark] .colab-df-convert:hover {\n",
              "      background-color: #434B5C;\n",
              "      box-shadow: 0px 1px 3px 1px rgba(0, 0, 0, 0.15);\n",
              "      filter: drop-shadow(0px 1px 2px rgba(0, 0, 0, 0.3));\n",
              "      fill: #FFFFFF;\n",
              "    }\n",
              "  </style>\n",
              "\n",
              "      <script>\n",
              "        const buttonEl =\n",
              "          document.querySelector('#df-bfe8477a-4f1e-45da-a854-65554463d1a7 button.colab-df-convert');\n",
              "        buttonEl.style.display =\n",
              "          google.colab.kernel.accessAllowed ? 'block' : 'none';\n",
              "\n",
              "        async function convertToInteractive(key) {\n",
              "          const element = document.querySelector('#df-bfe8477a-4f1e-45da-a854-65554463d1a7');\n",
              "          const dataTable =\n",
              "            await google.colab.kernel.invokeFunction('convertToInteractive',\n",
              "                                                     [key], {});\n",
              "          if (!dataTable) return;\n",
              "\n",
              "          const docLinkHtml = 'Like what you see? Visit the ' +\n",
              "            '<a target=\"_blank\" href=https://colab.research.google.com/notebooks/data_table.ipynb>data table notebook</a>'\n",
              "            + ' to learn more about interactive tables.';\n",
              "          element.innerHTML = '';\n",
              "          dataTable['output_type'] = 'display_data';\n",
              "          await google.colab.output.renderOutput(dataTable, element);\n",
              "          const docLink = document.createElement('div');\n",
              "          docLink.innerHTML = docLinkHtml;\n",
              "          element.appendChild(docLink);\n",
              "        }\n",
              "      </script>\n",
              "    </div>\n",
              "  </div>\n",
              "  "
            ]
          },
          "metadata": {},
          "execution_count": 304
        }
      ]
    },
    {
      "cell_type": "code",
      "source": [
        ""
      ],
      "metadata": {
        "id": "H2ejsbmoSfNm"
      },
      "execution_count": null,
      "outputs": []
    }
  ]
}